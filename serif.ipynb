{
 "cells": [
  {
   "cell_type": "markdown",
   "id": "4fe07128-ee98-4140-9d0e-82ff70e4bc1e",
   "metadata": {},
   "source": [
    "**Objective:**\n",
    "* Merge hospital and payer dataset\n",
    "* Detect discrepancies in pricing columns for observation level hospital, payer, billing code\n",
    "* Root cause of discrepancies and pick one single rate for each `ein`\n",
    "\n",
    "Date: 3/6/25 <br>\n",
    "Liuna Issagholian, data sceintist "
   ]
  },
  {
   "cell_type": "code",
   "execution_count": 1,
   "id": "9ad99209-a49d-40c6-ad4e-429fe46f0d0c",
   "metadata": {},
   "outputs": [],
   "source": [
    "import pandas as pd\n",
    "pd.set_option('display.max_columns', None)"
   ]
  },
  {
   "cell_type": "code",
   "execution_count": 2,
   "id": "98f20071-34bf-4f1b-8cc3-2fae8392618c",
   "metadata": {},
   "outputs": [
    {
     "name": "stdout",
     "output_type": "stream",
     "text": [
      "Shape of hospital dataset: (2950, 22)\n",
      "Shape of payer dataset: (222, 17)\n"
     ]
    }
   ],
   "source": [
    "# load datasets as dataframes\n",
    "#hospital dataset\n",
    "dfh = pd.read_csv('hpt_extract_20250213.csv')\n",
    "\n",
    "# payer dataset\n",
    "dfp = pd.read_csv('tic_extract_20250213.csv')\n",
    "\n",
    "print('Shape of hospital dataset: ' + str(dfh.shape))\n",
    "print('Shape of payer dataset: ' + str(dfp.shape))"
   ]
  },
  {
   "cell_type": "code",
   "execution_count": 3,
   "id": "c01ef27b-4009-4801-920f-85ad84260cb6",
   "metadata": {},
   "outputs": [
    {
     "name": "stdout",
     "output_type": "stream",
     "text": [
      "<class 'pandas.core.frame.DataFrame'>\n",
      "RangeIndex: 2950 entries, 0 to 2949\n",
      "Data columns (total 22 columns):\n",
      " #   Column                                 Non-Null Count  Dtype  \n",
      "---  ------                                 --------------  -----  \n",
      " 0   source_file_name                       2950 non-null   object \n",
      " 1   hospital_id                            2950 non-null   object \n",
      " 2   hospital_name                          2950 non-null   object \n",
      " 3   last_updated_on                        2950 non-null   object \n",
      " 4   hospital_state                         2950 non-null   object \n",
      " 5   license_number                         2950 non-null   object \n",
      " 6   payer_name                             2950 non-null   object \n",
      " 7   plan_name                              2950 non-null   object \n",
      " 8   code_type                              2950 non-null   object \n",
      " 9   raw_code                               2950 non-null   object \n",
      " 10  description                            2950 non-null   object \n",
      " 11  setting                                2950 non-null   object \n",
      " 12  modifiers                              34 non-null     object \n",
      " 13  standard_charge_gross                  2007 non-null   float64\n",
      " 14  standard_charge_discounted_cash        2020 non-null   float64\n",
      " 15  standard_charge_negotiated_dollar      2524 non-null   float64\n",
      " 16  standard_charge_negotiated_percentage  670 non-null    float64\n",
      " 17  standard_charge_min                    628 non-null    float64\n",
      " 18  standard_charge_max                    628 non-null    float64\n",
      " 19  standard_charge_methodology            2736 non-null   object \n",
      " 20  additional_payer_notes                 2257 non-null   object \n",
      " 21  additional_generic_notes               42 non-null     object \n",
      "dtypes: float64(6), object(16)\n",
      "memory usage: 507.2+ KB\n"
     ]
    }
   ],
   "source": [
    "# quick overview of datasets for checking column datatypes and missing values\n",
    "dfh.info()"
   ]
  },
  {
   "cell_type": "code",
   "execution_count": 4,
   "id": "153cb1aa-91b2-47a3-91eb-f6032578c234",
   "metadata": {},
   "outputs": [
    {
     "name": "stdout",
     "output_type": "stream",
     "text": [
      "<class 'pandas.core.frame.DataFrame'>\n",
      "RangeIndex: 222 entries, 0 to 221\n",
      "Data columns (total 17 columns):\n",
      " #   Column                      Non-Null Count  Dtype  \n",
      "---  ------                      --------------  -----  \n",
      " 0   payer                       222 non-null    object \n",
      " 1   network_name                222 non-null    object \n",
      " 2   network_id                  222 non-null    object \n",
      " 3   network_year_month          222 non-null    int64  \n",
      " 4   network_region              222 non-null    object \n",
      " 5   code                        222 non-null    int64  \n",
      " 6   code_type                   222 non-null    object \n",
      " 7   ein                         222 non-null    int64  \n",
      " 8   taxonomy_filtered_npi_list  218 non-null    object \n",
      " 9   modifier_list               7 non-null      object \n",
      " 10  billing_class               222 non-null    object \n",
      " 11  place_of_service_list       197 non-null    object \n",
      " 12  negotiation_type            222 non-null    object \n",
      " 13  arrangement                 222 non-null    object \n",
      " 14  rate                        222 non-null    float64\n",
      " 15  cms_baseline_schedule       221 non-null    object \n",
      " 16  cms_baseline_rate           221 non-null    float64\n",
      "dtypes: float64(2), int64(3), object(12)\n",
      "memory usage: 29.6+ KB\n"
     ]
    }
   ],
   "source": [
    "dfp.info()"
   ]
  },
  {
   "cell_type": "markdown",
   "id": "8c05426a-3a4a-4e50-95bd-7f11152f15f3",
   "metadata": {},
   "source": [
    "Both datasets have some missing values."
   ]
  },
  {
   "cell_type": "code",
   "execution_count": 5,
   "id": "6d6a19f4-cc0a-4487-901f-3898fec22ef7",
   "metadata": {},
   "outputs": [
    {
     "data": {
      "text/html": [
       "<div>\n",
       "<style scoped>\n",
       "    .dataframe tbody tr th:only-of-type {\n",
       "        vertical-align: middle;\n",
       "    }\n",
       "\n",
       "    .dataframe tbody tr th {\n",
       "        vertical-align: top;\n",
       "    }\n",
       "\n",
       "    .dataframe thead th {\n",
       "        text-align: right;\n",
       "    }\n",
       "</style>\n",
       "<table border=\"1\" class=\"dataframe\">\n",
       "  <thead>\n",
       "    <tr style=\"text-align: right;\">\n",
       "      <th></th>\n",
       "      <th>source_file_name</th>\n",
       "      <th>hospital_id</th>\n",
       "      <th>hospital_name</th>\n",
       "      <th>last_updated_on</th>\n",
       "      <th>hospital_state</th>\n",
       "      <th>license_number</th>\n",
       "      <th>payer_name</th>\n",
       "      <th>plan_name</th>\n",
       "      <th>code_type</th>\n",
       "      <th>raw_code</th>\n",
       "      <th>description</th>\n",
       "      <th>setting</th>\n",
       "      <th>modifiers</th>\n",
       "      <th>standard_charge_gross</th>\n",
       "      <th>standard_charge_discounted_cash</th>\n",
       "      <th>standard_charge_negotiated_dollar</th>\n",
       "      <th>standard_charge_negotiated_percentage</th>\n",
       "      <th>standard_charge_min</th>\n",
       "      <th>standard_charge_max</th>\n",
       "      <th>standard_charge_methodology</th>\n",
       "      <th>additional_payer_notes</th>\n",
       "      <th>additional_generic_notes</th>\n",
       "    </tr>\n",
       "  </thead>\n",
       "  <tbody>\n",
       "    <tr>\n",
       "      <th>0</th>\n",
       "      <td>13-1740114_montefiore-medical-center_standardc...</td>\n",
       "      <td>62915ae8-8d64-4e2f-b05f-b18edde57a3d</td>\n",
       "      <td>Montefiore Medical Center</td>\n",
       "      <td>2024-07-01</td>\n",
       "      <td>NY</td>\n",
       "      <td>13-1740114</td>\n",
       "      <td>Aetna</td>\n",
       "      <td>Medicare</td>\n",
       "      <td>CPT</td>\n",
       "      <td>99283</td>\n",
       "      <td>EMERGENCY DEPT VISIT LOW MDM</td>\n",
       "      <td>outpatient</td>\n",
       "      <td>NaN</td>\n",
       "      <td>NaN</td>\n",
       "      <td>NaN</td>\n",
       "      <td>323.34</td>\n",
       "      <td>NaN</td>\n",
       "      <td>83.78</td>\n",
       "      <td>1009.22</td>\n",
       "      <td>fee schedule</td>\n",
       "      <td>NaN</td>\n",
       "      <td>NaN</td>\n",
       "    </tr>\n",
       "    <tr>\n",
       "      <th>1</th>\n",
       "      <td>13-1740114_montefiore-medical-center_standardc...</td>\n",
       "      <td>62915ae8-8d64-4e2f-b05f-b18edde57a3d</td>\n",
       "      <td>Montefiore Medical Center</td>\n",
       "      <td>2024-07-01</td>\n",
       "      <td>NY</td>\n",
       "      <td>13-1740114</td>\n",
       "      <td>HealthFirst</td>\n",
       "      <td>Commercial Enrollees</td>\n",
       "      <td>CPT</td>\n",
       "      <td>43239</td>\n",
       "      <td>EGD BIOPSY SINGLE/MULTIPLE</td>\n",
       "      <td>outpatient</td>\n",
       "      <td>NaN</td>\n",
       "      <td>NaN</td>\n",
       "      <td>NaN</td>\n",
       "      <td>1037.65</td>\n",
       "      <td>NaN</td>\n",
       "      <td>165.40</td>\n",
       "      <td>3206.34</td>\n",
       "      <td>fee schedule</td>\n",
       "      <td>NaN</td>\n",
       "      <td>NaN</td>\n",
       "    </tr>\n",
       "    <tr>\n",
       "      <th>2</th>\n",
       "      <td>13-1740114_montefiore-medical-center_standardc...</td>\n",
       "      <td>62915ae8-8d64-4e2f-b05f-b18edde57a3d</td>\n",
       "      <td>Montefiore Medical Center</td>\n",
       "      <td>2024-07-01</td>\n",
       "      <td>NY</td>\n",
       "      <td>13-1740114</td>\n",
       "      <td>Aetna</td>\n",
       "      <td>Commercial</td>\n",
       "      <td>CPT</td>\n",
       "      <td>43239</td>\n",
       "      <td>UPPER GI ENDOSCOPY BIOPSY</td>\n",
       "      <td>outpatient</td>\n",
       "      <td>NaN</td>\n",
       "      <td>NaN</td>\n",
       "      <td>NaN</td>\n",
       "      <td>1246.73</td>\n",
       "      <td>NaN</td>\n",
       "      <td>1246.73</td>\n",
       "      <td>1394.79</td>\n",
       "      <td>fee schedule</td>\n",
       "      <td>NaN</td>\n",
       "      <td>NaN</td>\n",
       "    </tr>\n",
       "    <tr>\n",
       "      <th>3</th>\n",
       "      <td>13-1740114_montefiore-medical-center_standardc...</td>\n",
       "      <td>62915ae8-8d64-4e2f-b05f-b18edde57a3d</td>\n",
       "      <td>Montefiore Medical Center</td>\n",
       "      <td>2024-07-01</td>\n",
       "      <td>NY</td>\n",
       "      <td>13-1740114</td>\n",
       "      <td>Cigna</td>\n",
       "      <td>LocalPlus</td>\n",
       "      <td>CPT</td>\n",
       "      <td>99283</td>\n",
       "      <td>HC EMERGENCY DEPT VISIT LVL 3</td>\n",
       "      <td>outpatient</td>\n",
       "      <td>NaN</td>\n",
       "      <td>3744.0</td>\n",
       "      <td>2433.6</td>\n",
       "      <td>1797.00</td>\n",
       "      <td>NaN</td>\n",
       "      <td>225.00</td>\n",
       "      <td>1797.00</td>\n",
       "      <td>other</td>\n",
       "      <td>NaN</td>\n",
       "      <td>per visit</td>\n",
       "    </tr>\n",
       "    <tr>\n",
       "      <th>4</th>\n",
       "      <td>13-1740114_montefiore-medical-center_standardc...</td>\n",
       "      <td>62915ae8-8d64-4e2f-b05f-b18edde57a3d</td>\n",
       "      <td>Montefiore Medical Center</td>\n",
       "      <td>2024-07-01</td>\n",
       "      <td>NY</td>\n",
       "      <td>13-1740114</td>\n",
       "      <td>Oscar</td>\n",
       "      <td>Medicare</td>\n",
       "      <td>CPT</td>\n",
       "      <td>43239</td>\n",
       "      <td>EGD BIOPSY SINGLE/MULTIPLE</td>\n",
       "      <td>outpatient</td>\n",
       "      <td>NaN</td>\n",
       "      <td>NaN</td>\n",
       "      <td>NaN</td>\n",
       "      <td>1037.65</td>\n",
       "      <td>NaN</td>\n",
       "      <td>141.77</td>\n",
       "      <td>1815.10</td>\n",
       "      <td>fee schedule</td>\n",
       "      <td>NaN</td>\n",
       "      <td>NaN</td>\n",
       "    </tr>\n",
       "  </tbody>\n",
       "</table>\n",
       "</div>"
      ],
      "text/plain": [
       "                                    source_file_name  \\\n",
       "0  13-1740114_montefiore-medical-center_standardc...   \n",
       "1  13-1740114_montefiore-medical-center_standardc...   \n",
       "2  13-1740114_montefiore-medical-center_standardc...   \n",
       "3  13-1740114_montefiore-medical-center_standardc...   \n",
       "4  13-1740114_montefiore-medical-center_standardc...   \n",
       "\n",
       "                            hospital_id              hospital_name  \\\n",
       "0  62915ae8-8d64-4e2f-b05f-b18edde57a3d  Montefiore Medical Center   \n",
       "1  62915ae8-8d64-4e2f-b05f-b18edde57a3d  Montefiore Medical Center   \n",
       "2  62915ae8-8d64-4e2f-b05f-b18edde57a3d  Montefiore Medical Center   \n",
       "3  62915ae8-8d64-4e2f-b05f-b18edde57a3d  Montefiore Medical Center   \n",
       "4  62915ae8-8d64-4e2f-b05f-b18edde57a3d  Montefiore Medical Center   \n",
       "\n",
       "  last_updated_on hospital_state license_number   payer_name  \\\n",
       "0      2024-07-01             NY     13-1740114        Aetna   \n",
       "1      2024-07-01             NY     13-1740114  HealthFirst   \n",
       "2      2024-07-01             NY     13-1740114        Aetna   \n",
       "3      2024-07-01             NY     13-1740114        Cigna   \n",
       "4      2024-07-01             NY     13-1740114        Oscar   \n",
       "\n",
       "              plan_name code_type raw_code                    description  \\\n",
       "0              Medicare       CPT    99283   EMERGENCY DEPT VISIT LOW MDM   \n",
       "1  Commercial Enrollees       CPT    43239     EGD BIOPSY SINGLE/MULTIPLE   \n",
       "2            Commercial       CPT    43239      UPPER GI ENDOSCOPY BIOPSY   \n",
       "3             LocalPlus       CPT    99283  HC EMERGENCY DEPT VISIT LVL 3   \n",
       "4              Medicare       CPT    43239     EGD BIOPSY SINGLE/MULTIPLE   \n",
       "\n",
       "      setting modifiers  standard_charge_gross  \\\n",
       "0  outpatient       NaN                    NaN   \n",
       "1  outpatient       NaN                    NaN   \n",
       "2  outpatient       NaN                    NaN   \n",
       "3  outpatient       NaN                 3744.0   \n",
       "4  outpatient       NaN                    NaN   \n",
       "\n",
       "   standard_charge_discounted_cash  standard_charge_negotiated_dollar  \\\n",
       "0                              NaN                             323.34   \n",
       "1                              NaN                            1037.65   \n",
       "2                              NaN                            1246.73   \n",
       "3                           2433.6                            1797.00   \n",
       "4                              NaN                            1037.65   \n",
       "\n",
       "   standard_charge_negotiated_percentage  standard_charge_min  \\\n",
       "0                                    NaN                83.78   \n",
       "1                                    NaN               165.40   \n",
       "2                                    NaN              1246.73   \n",
       "3                                    NaN               225.00   \n",
       "4                                    NaN               141.77   \n",
       "\n",
       "   standard_charge_max standard_charge_methodology additional_payer_notes  \\\n",
       "0              1009.22                fee schedule                    NaN   \n",
       "1              3206.34                fee schedule                    NaN   \n",
       "2              1394.79                fee schedule                    NaN   \n",
       "3              1797.00                       other                    NaN   \n",
       "4              1815.10                fee schedule                    NaN   \n",
       "\n",
       "  additional_generic_notes  \n",
       "0                      NaN  \n",
       "1                      NaN  \n",
       "2                      NaN  \n",
       "3                per visit  \n",
       "4                      NaN  "
      ]
     },
     "execution_count": 5,
     "metadata": {},
     "output_type": "execute_result"
    }
   ],
   "source": [
    "dfh.head()"
   ]
  },
  {
   "cell_type": "code",
   "execution_count": 6,
   "id": "6b9444b4-b804-4191-9ff1-3ad6071ca213",
   "metadata": {},
   "outputs": [
    {
     "data": {
      "text/html": [
       "<div>\n",
       "<style scoped>\n",
       "    .dataframe tbody tr th:only-of-type {\n",
       "        vertical-align: middle;\n",
       "    }\n",
       "\n",
       "    .dataframe tbody tr th {\n",
       "        vertical-align: top;\n",
       "    }\n",
       "\n",
       "    .dataframe thead th {\n",
       "        text-align: right;\n",
       "    }\n",
       "</style>\n",
       "<table border=\"1\" class=\"dataframe\">\n",
       "  <thead>\n",
       "    <tr style=\"text-align: right;\">\n",
       "      <th></th>\n",
       "      <th>payer</th>\n",
       "      <th>network_name</th>\n",
       "      <th>network_id</th>\n",
       "      <th>network_year_month</th>\n",
       "      <th>network_region</th>\n",
       "      <th>code</th>\n",
       "      <th>code_type</th>\n",
       "      <th>ein</th>\n",
       "      <th>taxonomy_filtered_npi_list</th>\n",
       "      <th>modifier_list</th>\n",
       "      <th>billing_class</th>\n",
       "      <th>place_of_service_list</th>\n",
       "      <th>negotiation_type</th>\n",
       "      <th>arrangement</th>\n",
       "      <th>rate</th>\n",
       "      <th>cms_baseline_schedule</th>\n",
       "      <th>cms_baseline_rate</th>\n",
       "    </tr>\n",
       "  </thead>\n",
       "  <tbody>\n",
       "    <tr>\n",
       "      <th>0</th>\n",
       "      <td>unitedhealthcare</td>\n",
       "      <td>choice-plus</td>\n",
       "      <td>592bc118-0dac-4f38-949c-11dc9b3a3879</td>\n",
       "      <td>202501</td>\n",
       "      <td>USA</td>\n",
       "      <td>872</td>\n",
       "      <td>MS-DRG</td>\n",
       "      <td>131740114</td>\n",
       "      <td>1003990763,1023202793,1063525152,1063606739,10...</td>\n",
       "      <td>NaN</td>\n",
       "      <td>institutional</td>\n",
       "      <td>NaN</td>\n",
       "      <td>negotiated</td>\n",
       "      <td>ffs</td>\n",
       "      <td>15902.00</td>\n",
       "      <td>IPPS</td>\n",
       "      <td>6829.75</td>\n",
       "    </tr>\n",
       "    <tr>\n",
       "      <th>1</th>\n",
       "      <td>unitedhealthcare</td>\n",
       "      <td>choice-plus</td>\n",
       "      <td>592bc118-0dac-4f38-949c-11dc9b3a3879</td>\n",
       "      <td>202501</td>\n",
       "      <td>USA</td>\n",
       "      <td>99283</td>\n",
       "      <td>CPT</td>\n",
       "      <td>131624096</td>\n",
       "      <td>1003255670,1245759711,1487026522,1598095267,16...</td>\n",
       "      <td>NaN</td>\n",
       "      <td>professional</td>\n",
       "      <td>11</td>\n",
       "      <td>negotiated</td>\n",
       "      <td>ffs</td>\n",
       "      <td>123.86</td>\n",
       "      <td>PFS_NONFACILITY_1320201</td>\n",
       "      <td>76.89</td>\n",
       "    </tr>\n",
       "    <tr>\n",
       "      <th>2</th>\n",
       "      <td>unitedhealthcare</td>\n",
       "      <td>choice-plus</td>\n",
       "      <td>592bc118-0dac-4f38-949c-11dc9b3a3879</td>\n",
       "      <td>202501</td>\n",
       "      <td>USA</td>\n",
       "      <td>43239</td>\n",
       "      <td>CPT</td>\n",
       "      <td>131740114</td>\n",
       "      <td>1700348620,1700892056,1922539964,1942685292</td>\n",
       "      <td>NaN</td>\n",
       "      <td>professional</td>\n",
       "      <td>11</td>\n",
       "      <td>negotiated</td>\n",
       "      <td>ffs</td>\n",
       "      <td>993.92</td>\n",
       "      <td>PFS_NONFACILITY_1320202</td>\n",
       "      <td>424.76</td>\n",
       "    </tr>\n",
       "    <tr>\n",
       "      <th>3</th>\n",
       "      <td>unitedhealthcare</td>\n",
       "      <td>choice-plus</td>\n",
       "      <td>592bc118-0dac-4f38-949c-11dc9b3a3879</td>\n",
       "      <td>202501</td>\n",
       "      <td>USA</td>\n",
       "      <td>872</td>\n",
       "      <td>MS-DRG</td>\n",
       "      <td>133971298</td>\n",
       "      <td>1245635200,1437523537,1528013695,1528432622,15...</td>\n",
       "      <td>NaN</td>\n",
       "      <td>institutional</td>\n",
       "      <td>NaN</td>\n",
       "      <td>negotiated</td>\n",
       "      <td>ffs</td>\n",
       "      <td>27924.63</td>\n",
       "      <td>IPPS</td>\n",
       "      <td>6829.75</td>\n",
       "    </tr>\n",
       "    <tr>\n",
       "      <th>4</th>\n",
       "      <td>unitedhealthcare</td>\n",
       "      <td>choice-plus</td>\n",
       "      <td>592bc118-0dac-4f38-949c-11dc9b3a3879</td>\n",
       "      <td>202501</td>\n",
       "      <td>USA</td>\n",
       "      <td>43239</td>\n",
       "      <td>CPT</td>\n",
       "      <td>131740114</td>\n",
       "      <td>1346697315</td>\n",
       "      <td>NaN</td>\n",
       "      <td>professional</td>\n",
       "      <td>11</td>\n",
       "      <td>negotiated</td>\n",
       "      <td>ffs</td>\n",
       "      <td>849.63</td>\n",
       "      <td>PFS_NONFACILITY_1320203</td>\n",
       "      <td>391.85</td>\n",
       "    </tr>\n",
       "  </tbody>\n",
       "</table>\n",
       "</div>"
      ],
      "text/plain": [
       "              payer network_name                            network_id  \\\n",
       "0  unitedhealthcare  choice-plus  592bc118-0dac-4f38-949c-11dc9b3a3879   \n",
       "1  unitedhealthcare  choice-plus  592bc118-0dac-4f38-949c-11dc9b3a3879   \n",
       "2  unitedhealthcare  choice-plus  592bc118-0dac-4f38-949c-11dc9b3a3879   \n",
       "3  unitedhealthcare  choice-plus  592bc118-0dac-4f38-949c-11dc9b3a3879   \n",
       "4  unitedhealthcare  choice-plus  592bc118-0dac-4f38-949c-11dc9b3a3879   \n",
       "\n",
       "   network_year_month network_region   code code_type        ein  \\\n",
       "0              202501            USA    872    MS-DRG  131740114   \n",
       "1              202501            USA  99283       CPT  131624096   \n",
       "2              202501            USA  43239       CPT  131740114   \n",
       "3              202501            USA    872    MS-DRG  133971298   \n",
       "4              202501            USA  43239       CPT  131740114   \n",
       "\n",
       "                          taxonomy_filtered_npi_list modifier_list  \\\n",
       "0  1003990763,1023202793,1063525152,1063606739,10...           NaN   \n",
       "1  1003255670,1245759711,1487026522,1598095267,16...           NaN   \n",
       "2        1700348620,1700892056,1922539964,1942685292           NaN   \n",
       "3  1245635200,1437523537,1528013695,1528432622,15...           NaN   \n",
       "4                                         1346697315           NaN   \n",
       "\n",
       "   billing_class place_of_service_list negotiation_type arrangement      rate  \\\n",
       "0  institutional                   NaN       negotiated         ffs  15902.00   \n",
       "1   professional                    11       negotiated         ffs    123.86   \n",
       "2   professional                    11       negotiated         ffs    993.92   \n",
       "3  institutional                   NaN       negotiated         ffs  27924.63   \n",
       "4   professional                    11       negotiated         ffs    849.63   \n",
       "\n",
       "     cms_baseline_schedule  cms_baseline_rate  \n",
       "0                     IPPS            6829.75  \n",
       "1  PFS_NONFACILITY_1320201              76.89  \n",
       "2  PFS_NONFACILITY_1320202             424.76  \n",
       "3                     IPPS            6829.75  \n",
       "4  PFS_NONFACILITY_1320203             391.85  "
      ]
     },
     "execution_count": 6,
     "metadata": {},
     "output_type": "execute_result"
    }
   ],
   "source": [
    "dfp.head()"
   ]
  },
  {
   "cell_type": "code",
   "execution_count": 7,
   "id": "74b7e4b3-0b1e-40fe-8c66-a69784575fd5",
   "metadata": {},
   "outputs": [],
   "source": [
    "# make lower case for all hospitals and pay\n",
    "def lower_case(df):\n",
    "    df[df.select_dtypes(include='object').columns] = df.select_dtypes(include='object').apply(lambda col: col.str.lower())\n",
    "    return df\n",
    "\n",
    "dfh, dfp = lower_case(dfh) , lower_case(dfp)"
   ]
  },
  {
   "cell_type": "code",
   "execution_count": 8,
   "id": "8697ed3f-7b74-4852-99ae-f5a28f8c0de2",
   "metadata": {},
   "outputs": [
    {
     "name": "stdout",
     "output_type": "stream",
     "text": [
      "number of duplicated rows in hospital dataset: 3\n",
      "number of duplicated rows in payer dataset: 0\n"
     ]
    }
   ],
   "source": [
    "# check for dupicated rows:\n",
    "print('number of duplicated rows in hospital dataset: ' + str(len(dfh[dfh.duplicated()])))\n",
    "\n",
    "print('number of duplicated rows in payer dataset: ' + str(len(dfp[dfp.duplicated()])))"
   ]
  },
  {
   "cell_type": "code",
   "execution_count": 9,
   "id": "0940f287-72df-4388-8b8e-88cd7369b345",
   "metadata": {},
   "outputs": [
    {
     "name": "stdout",
     "output_type": "stream",
     "text": [
      "after dropping duplication:\n"
     ]
    },
    {
     "data": {
      "text/plain": [
       "(2947, 22)"
      ]
     },
     "execution_count": 9,
     "metadata": {},
     "output_type": "execute_result"
    }
   ],
   "source": [
    "#dropping duplicates from hospital datasets\n",
    "dfh = dfh.drop_duplicates().reset_index(drop=True)\n",
    "\n",
    "print('after dropping duplication:')\n",
    "dfh.shape"
   ]
  },
  {
   "cell_type": "code",
   "execution_count": 10,
   "id": "50d8cfe3-786a-4e69-9ae5-a7355c205412",
   "metadata": {},
   "outputs": [
    {
     "name": "stdout",
     "output_type": "stream",
     "text": [
      "Columns for hospital with one unique value: ['hospital_state', 'modifiers']\n",
      "Columns for payer with one unique value: ['network_year_month', 'network_region', 'arrangement']\n"
     ]
    }
   ],
   "source": [
    "# checking columns with only value\n",
    "# Print column names with one unique value\n",
    "print(\"Columns for hospital with one unique value:\", list(dfh.columns[dfh.nunique() == 1]))\n",
    "print(\"Columns for payer with one unique value:\", list(dfp.columns[dfp.nunique() == 1]))"
   ]
  },
  {
   "cell_type": "code",
   "execution_count": 11,
   "id": "72818ece-47d0-43fb-9a14-930e4ae48f30",
   "metadata": {},
   "outputs": [],
   "source": [
    "def del_single_values(df):\n",
    "    df = df.drop(list(df.columns[df.nunique() == 1]), axis=1)\n",
    "    return df\n",
    "    \n",
    "dfh, dfp= del_single_values(dfh), del_single_values(dfp)"
   ]
  },
  {
   "cell_type": "code",
   "execution_count": 12,
   "id": "e5b3dda8-b52a-4fbd-96b1-612dbbd155ce",
   "metadata": {},
   "outputs": [
    {
     "data": {
      "text/plain": [
       "((2947, 20), (222, 14))"
      ]
     },
     "execution_count": 12,
     "metadata": {},
     "output_type": "execute_result"
    }
   ],
   "source": [
    "dfh.shape, dfp.shape"
   ]
  },
  {
   "cell_type": "code",
   "execution_count": 13,
   "id": "02fe8dc5-348b-42db-b015-0dfec3923548",
   "metadata": {},
   "outputs": [
    {
     "data": {
      "text/plain": [
       "source_file_name\n",
       "133971298-1801992631_nyu-langone-tisch_standardcharges.csv.gz    2322\n",
       "13-1740114_montefiore-medical-center_standardcharges.csv.gz       377\n",
       "131624096_mount-sinai-hospital_standardcharges.csv.gz             248\n",
       "Name: count, dtype: int64"
      ]
     },
     "execution_count": 13,
     "metadata": {},
     "output_type": "execute_result"
    }
   ],
   "source": [
    "dfh.source_file_name.value_counts()"
   ]
  },
  {
   "cell_type": "code",
   "execution_count": 14,
   "id": "d2df61c3-1d5a-4f5c-bcf2-994c0994b933",
   "metadata": {},
   "outputs": [
    {
     "data": {
      "text/html": [
       "<div>\n",
       "<style scoped>\n",
       "    .dataframe tbody tr th:only-of-type {\n",
       "        vertical-align: middle;\n",
       "    }\n",
       "\n",
       "    .dataframe tbody tr th {\n",
       "        vertical-align: top;\n",
       "    }\n",
       "\n",
       "    .dataframe thead th {\n",
       "        text-align: right;\n",
       "    }\n",
       "</style>\n",
       "<table border=\"1\" class=\"dataframe\">\n",
       "  <thead>\n",
       "    <tr style=\"text-align: right;\">\n",
       "      <th></th>\n",
       "      <th>hospital_id</th>\n",
       "      <th>hospital_name</th>\n",
       "      <th>license_number</th>\n",
       "      <th>last_updated_on</th>\n",
       "    </tr>\n",
       "  </thead>\n",
       "  <tbody>\n",
       "    <tr>\n",
       "      <th>0</th>\n",
       "      <td>62915ae8-8d64-4e2f-b05f-b18edde57a3d</td>\n",
       "      <td>montefiore medical center</td>\n",
       "      <td>13-1740114</td>\n",
       "      <td>2024-07-01</td>\n",
       "    </tr>\n",
       "    <tr>\n",
       "      <th>169</th>\n",
       "      <td>5954cbad-a7c5-43f7-b356-8f2ecdad579a</td>\n",
       "      <td>the mount sinai hospital</td>\n",
       "      <td>330024</td>\n",
       "      <td>2024-09-16</td>\n",
       "    </tr>\n",
       "    <tr>\n",
       "      <th>244</th>\n",
       "      <td>40e6a8c8-a68c-4d28-b1d5-fa70d6d09636</td>\n",
       "      <td>nyu langone</td>\n",
       "      <td>7002053h</td>\n",
       "      <td>2025-01-01</td>\n",
       "    </tr>\n",
       "  </tbody>\n",
       "</table>\n",
       "</div>"
      ],
      "text/plain": [
       "                              hospital_id              hospital_name  \\\n",
       "0    62915ae8-8d64-4e2f-b05f-b18edde57a3d  montefiore medical center   \n",
       "169  5954cbad-a7c5-43f7-b356-8f2ecdad579a   the mount sinai hospital   \n",
       "244  40e6a8c8-a68c-4d28-b1d5-fa70d6d09636                nyu langone   \n",
       "\n",
       "    license_number last_updated_on  \n",
       "0       13-1740114      2024-07-01  \n",
       "169         330024      2024-09-16  \n",
       "244       7002053h      2025-01-01  "
      ]
     },
     "execution_count": 14,
     "metadata": {},
     "output_type": "execute_result"
    }
   ],
   "source": [
    "#check to see these are all conveying same info\n",
    "h_dup = dfh[['hospital_id', 'hospital_name', 'license_number','last_updated_on']].drop_duplicates()\n",
    "h_dup"
   ]
  },
  {
   "cell_type": "code",
   "execution_count": 15,
   "id": "5860a37f-9552-4fb2-8fc5-32bca94d34bb",
   "metadata": {},
   "outputs": [],
   "source": [
    "dfh = dfh.drop(['source_file_name', 'last_updated_on',# drop this column since it only has file name coming from 3 hospitals\n",
    "               'description'] # description of billing code\n",
    "               ,axis=1) "
   ]
  },
  {
   "cell_type": "code",
   "execution_count": 16,
   "id": "58189315-b4a3-4b5d-84ab-ee0051a8aa3e",
   "metadata": {},
   "outputs": [
    {
     "data": {
      "text/plain": [
       "(2947, 17)"
      ]
     },
     "execution_count": 16,
     "metadata": {},
     "output_type": "execute_result"
    }
   ],
   "source": [
    "dfh.shape"
   ]
  },
  {
   "cell_type": "code",
   "execution_count": 17,
   "id": "dda388a8-d6b6-4198-8404-5d9792007d38",
   "metadata": {
    "scrolled": true
   },
   "outputs": [
    {
     "name": "stdout",
     "output_type": "stream",
     "text": [
      "hospital_id\n",
      "3\n",
      "['62915ae8-8d64-4e2f-b05f-b18edde57a3d'\n",
      " '5954cbad-a7c5-43f7-b356-8f2ecdad579a'\n",
      " '40e6a8c8-a68c-4d28-b1d5-fa70d6d09636']\n",
      "hospital_id\n",
      "40e6a8c8-a68c-4d28-b1d5-fa70d6d09636    2322\n",
      "62915ae8-8d64-4e2f-b05f-b18edde57a3d     377\n",
      "5954cbad-a7c5-43f7-b356-8f2ecdad579a     248\n",
      "Name: count, dtype: int64\n",
      "\n",
      "hospital_name\n",
      "3\n",
      "['montefiore medical center' 'the mount sinai hospital' 'nyu langone']\n",
      "hospital_name\n",
      "nyu langone                  2322\n",
      "montefiore medical center     377\n",
      "the mount sinai hospital      248\n",
      "Name: count, dtype: int64\n",
      "\n",
      "license_number\n",
      "3\n",
      "['13-1740114' '330024' '7002053h']\n",
      "license_number\n",
      "7002053h      2322\n",
      "13-1740114     377\n",
      "330024         248\n",
      "Name: count, dtype: int64\n",
      "\n",
      "code_type\n",
      "3\n",
      "['cpt' 'ms-drg' 'local']\n",
      "code_type\n",
      "cpt       2159\n",
      "local      410\n",
      "ms-drg     378\n",
      "Name: count, dtype: int64\n",
      "\n",
      "raw_code\n",
      "4\n",
      "['99283' '43239' '872' 'ms-drg 872']\n",
      "raw_code\n",
      "43239         1524\n",
      "99283         1045\n",
      "ms-drg 872     290\n",
      "872             88\n",
      "Name: count, dtype: int64\n",
      "\n",
      "setting\n",
      "3\n",
      "['outpatient' 'both' 'inpatient']\n",
      "setting\n",
      "both          2208\n",
      "inpatient      408\n",
      "outpatient     331\n",
      "Name: count, dtype: int64\n",
      "\n",
      "additional_generic_notes\n",
      "5\n",
      "[nan 'per visit' 'per unit' 'per test' 'price per visit' 'per procedure']\n",
      "additional_generic_notes\n",
      "per unit           24\n",
      "price per visit     8\n",
      "per visit           5\n",
      "per test            4\n",
      "per procedure       1\n",
      "Name: count, dtype: int64\n",
      "\n"
     ]
    }
   ],
   "source": [
    "# hospital dataset: checking categorical columns with less than 6 values\n",
    "for col in list(dfh.columns[dfh.nunique()< 6]):\n",
    "    print(col)\n",
    "    print(dfh[col].nunique())\n",
    "    print(dfh[col].unique())\n",
    "    print(dfh[col].value_counts())\n",
    "    print()"
   ]
  },
  {
   "cell_type": "markdown",
   "id": "3a49f9c1-28de-4e56-a518-7741eb8d3b07",
   "metadata": {},
   "source": [
    "* hospital dataset: all **hospital_id, hospital_name, license_number** refer to different ways of identifying hospitals."
   ]
  },
  {
   "cell_type": "markdown",
   "id": "147063e0-8529-4bf4-85a3-30f55c936a03",
   "metadata": {},
   "source": [
    "* Confiriming all there columns are different ways of referring to hospital info."
   ]
  },
  {
   "cell_type": "code",
   "execution_count": 18,
   "id": "2eaa2208-99c8-4b96-be7b-f41f516dadff",
   "metadata": {},
   "outputs": [
    {
     "name": "stdout",
     "output_type": "stream",
     "text": [
      "payer\n",
      "3\n",
      "['unitedhealthcare' 'aetna' 'cigna-corporation']\n",
      "payer\n",
      "aetna                133\n",
      "unitedhealthcare      45\n",
      "cigna-corporation     44\n",
      "Name: count, dtype: int64\n",
      "\n",
      "network_name\n",
      "3\n",
      "['choice-plus' 'open-access-managed-choice' 'national-oap']\n",
      "network_name\n",
      "open-access-managed-choice    133\n",
      "choice-plus                    45\n",
      "national-oap                   44\n",
      "Name: count, dtype: int64\n",
      "\n",
      "network_id\n",
      "3\n",
      "['592bc118-0dac-4f38-949c-11dc9b3a3879'\n",
      " '39f0d406-b5df-4046-9759-f08565e45db7'\n",
      " '5dbd8f1c-3f56-4806-917b-e495668bf2bf']\n",
      "network_id\n",
      "39f0d406-b5df-4046-9759-f08565e45db7    133\n",
      "592bc118-0dac-4f38-949c-11dc9b3a3879     45\n",
      "5dbd8f1c-3f56-4806-917b-e495668bf2bf     44\n",
      "Name: count, dtype: int64\n",
      "\n",
      "code\n",
      "3\n",
      "[  872 99283 43239]\n",
      "code\n",
      "43239    103\n",
      "99283    100\n",
      "872       19\n",
      "Name: count, dtype: int64\n",
      "\n",
      "code_type\n",
      "2\n",
      "['ms-drg' 'cpt']\n",
      "code_type\n",
      "cpt       203\n",
      "ms-drg     19\n",
      "Name: count, dtype: int64\n",
      "\n",
      "ein\n",
      "3\n",
      "[131740114 131624096 133971298]\n",
      "ein\n",
      "131740114    118\n",
      "133971298     55\n",
      "131624096     49\n",
      "Name: count, dtype: int64\n",
      "\n",
      "modifier_list\n",
      "2\n",
      "[nan 'gt, 95' '95, gt']\n",
      "modifier_list\n",
      "gt, 95    5\n",
      "95, gt    2\n",
      "Name: count, dtype: int64\n",
      "\n",
      "billing_class\n",
      "2\n",
      "['institutional' 'professional']\n",
      "billing_class\n",
      "professional     177\n",
      "institutional     45\n",
      "Name: count, dtype: int64\n",
      "\n",
      "negotiation_type\n",
      "3\n",
      "['negotiated' 'fee schedule' 'percentage']\n",
      "negotiation_type\n",
      "negotiated      169\n",
      "fee schedule     50\n",
      "percentage        3\n",
      "Name: count, dtype: int64\n",
      "\n"
     ]
    }
   ],
   "source": [
    "# payer dataset: checking categorical columns with less than 6 values \n",
    "for col in list(dfp.columns[dfp.nunique()< 6]):\n",
    "    print(col)\n",
    "    print(dfp[col].nunique())\n",
    "    print(dfp[col].unique())\n",
    "    print(dfp[col].value_counts())\n",
    "    print()"
   ]
  },
  {
   "cell_type": "markdown",
   "id": "b86a04df-72ac-40ca-995e-ffbaed4002c5",
   "metadata": {},
   "source": [
    "* payer dataset: all **payer,network_name, network_id** refer to different ways of identifying hospitals."
   ]
  },
  {
   "cell_type": "code",
   "execution_count": 19,
   "id": "21f7bbfd-76cf-4bed-894d-f9282a578f1b",
   "metadata": {},
   "outputs": [
    {
     "data": {
      "text/html": [
       "<div>\n",
       "<style scoped>\n",
       "    .dataframe tbody tr th:only-of-type {\n",
       "        vertical-align: middle;\n",
       "    }\n",
       "\n",
       "    .dataframe tbody tr th {\n",
       "        vertical-align: top;\n",
       "    }\n",
       "\n",
       "    .dataframe thead th {\n",
       "        text-align: right;\n",
       "    }\n",
       "</style>\n",
       "<table border=\"1\" class=\"dataframe\">\n",
       "  <thead>\n",
       "    <tr style=\"text-align: right;\">\n",
       "      <th></th>\n",
       "      <th>payer</th>\n",
       "      <th>network_name</th>\n",
       "      <th>network_id</th>\n",
       "    </tr>\n",
       "  </thead>\n",
       "  <tbody>\n",
       "    <tr>\n",
       "      <th>0</th>\n",
       "      <td>unitedhealthcare</td>\n",
       "      <td>choice-plus</td>\n",
       "      <td>592bc118-0dac-4f38-949c-11dc9b3a3879</td>\n",
       "    </tr>\n",
       "    <tr>\n",
       "      <th>23</th>\n",
       "      <td>aetna</td>\n",
       "      <td>open-access-managed-choice</td>\n",
       "      <td>39f0d406-b5df-4046-9759-f08565e45db7</td>\n",
       "    </tr>\n",
       "    <tr>\n",
       "      <th>94</th>\n",
       "      <td>cigna-corporation</td>\n",
       "      <td>national-oap</td>\n",
       "      <td>5dbd8f1c-3f56-4806-917b-e495668bf2bf</td>\n",
       "    </tr>\n",
       "  </tbody>\n",
       "</table>\n",
       "</div>"
      ],
      "text/plain": [
       "                payer                network_name  \\\n",
       "0    unitedhealthcare                 choice-plus   \n",
       "23              aetna  open-access-managed-choice   \n",
       "94  cigna-corporation                national-oap   \n",
       "\n",
       "                              network_id  \n",
       "0   592bc118-0dac-4f38-949c-11dc9b3a3879  \n",
       "23  39f0d406-b5df-4046-9759-f08565e45db7  \n",
       "94  5dbd8f1c-3f56-4806-917b-e495668bf2bf  "
      ]
     },
     "execution_count": 19,
     "metadata": {},
     "output_type": "execute_result"
    }
   ],
   "source": [
    "p_dup = dfp[['payer','network_name', 'network_id']].drop_duplicates()\n",
    "p_dup"
   ]
  },
  {
   "cell_type": "code",
   "execution_count": 20,
   "id": "4fd71966-d831-4b59-876f-954740c3b16c",
   "metadata": {
    "scrolled": true
   },
   "outputs": [
    {
     "data": {
      "text/plain": [
       "modifier_list\n",
       "gt, 95    5\n",
       "95, gt    2\n",
       "Name: count, dtype: int64"
      ]
     },
     "execution_count": 20,
     "metadata": {},
     "output_type": "execute_result"
    }
   ],
   "source": [
    "dfp.modifier_list.value_counts()"
   ]
  },
  {
   "cell_type": "code",
   "execution_count": 21,
   "id": "397a324f-19fb-47d1-bd85-cb2dcb26adcf",
   "metadata": {},
   "outputs": [],
   "source": [
    "# assuming the order of items in modifier_list doesn't matter\n",
    "dfp.modifier_list = dfp.modifier_list.replace('95, gt', 'gt, 95')"
   ]
  },
  {
   "cell_type": "markdown",
   "id": "2603748b-9b8c-4c61-8fa1-0ba49671477d",
   "metadata": {},
   "source": [
    "According to https://www.novitas-solutions.com/webcenter/portal/MedicareJH/pagebyid?contentId=00144501, they are both versions of telehealth services."
   ]
  },
  {
   "cell_type": "markdown",
   "id": "eb3befba-6175-46d9-9d47-6a311d09555c",
   "metadata": {},
   "source": [
    "### Possible common columns for merging two datasets"
   ]
  },
  {
   "cell_type": "code",
   "execution_count": 22,
   "id": "e929b961-e002-4a7c-9b1c-225b3134738b",
   "metadata": {},
   "outputs": [
    {
     "data": {
      "text/plain": [
       "(array(['aetna', 'healthfirst', 'cigna', 'oscar', 'healthcare', 'united',\n",
       "        'emblem', 'humana', 'fidelis', 'centerlight', 'partners',\n",
       "        'northwell', 'agewell', 'metroplus', 'longevity', 'mvp',\n",
       "        'hamaspik', 'wellcare', 'empire', 'elderplan', 'vnsny', 'nat',\n",
       "        'centersplan', 'uhc', 'villagecaremax', 'senior', 'nippon',\n",
       "        'seiu1199', 'molina', 'multiplan', 'magnacare', 'centivo',\n",
       "        'beacon', 'united healthcare', 'bright health', 'horizon',\n",
       "        'amida care', 'oxford', 'empire medicare advantage', 'lifetrac',\n",
       "        'independence care', 'affinity', '1199', 'bcbs', 'hip', 'medicare',\n",
       "        'somos', 'healthplus', 'ghi', 'amida', 'firsthealth', 'medicaid',\n",
       "        'threerivers', 'hamaspikchoice', 'amidacare', 'archcare',\n",
       "        'christian', 'american', 'brighton health', 'empire healthplus',\n",
       "        'vns'], dtype=object),\n",
       " array(['unitedhealthcare', 'aetna', 'cigna-corporation'], dtype=object))"
      ]
     },
     "execution_count": 22,
     "metadata": {},
     "output_type": "execute_result"
    }
   ],
   "source": [
    "#1\n",
    "dfh.payer_name.unique() , dfp.payer.unique()"
   ]
  },
  {
   "cell_type": "markdown",
   "id": "412796b0-d517-411a-ba2c-5369b4062721",
   "metadata": {},
   "source": [
    "* payer_name needs be cleaned and filtered based on 3 major payer entities."
   ]
  },
  {
   "cell_type": "code",
   "execution_count": 23,
   "id": "18997f19-69c9-44f5-9f4e-46aa1f89cd00",
   "metadata": {},
   "outputs": [],
   "source": [
    "mapping_payer_names = {\n",
    "    'united': 'unitedhealthcare',\n",
    "    'uhc': 'unitedhealthcare',\n",
    "    'united healthcare': 'unitedhealthcare',\n",
    "    'oxford': 'unitedhealthcare',  # Oxford is a subsidiary of UnitedHealthcare\n",
    "    'cigna': 'cigna-corporation'\n",
    "}\n",
    "\n",
    "# Replace values in the 'payer_name' column\n",
    "dfh.payer_name = dfh.payer_name.replace(mapping_payer_names)"
   ]
  },
  {
   "cell_type": "code",
   "execution_count": 24,
   "id": "ce6fed24-300c-4e51-88db-df13b8db6488",
   "metadata": {},
   "outputs": [
    {
     "data": {
      "text/plain": [
       "(array(['cpt', 'ms-drg', 'local'], dtype=object),\n",
       " array(['ms-drg', 'cpt'], dtype=object))"
      ]
     },
     "execution_count": 24,
     "metadata": {},
     "output_type": "execute_result"
    }
   ],
   "source": [
    "#2\n",
    "dfh.code_type.unique(), dfp.code_type.unique() "
   ]
  },
  {
   "cell_type": "code",
   "execution_count": 25,
   "id": "38a258b5-00d3-499d-adec-f3d918e7f9e5",
   "metadata": {},
   "outputs": [
    {
     "data": {
      "text/plain": [
       "(538, 3)"
      ]
     },
     "execution_count": 25,
     "metadata": {},
     "output_type": "execute_result"
    }
   ],
   "source": [
    "# 3\n",
    "dfh.plan_name.nunique(), dfp.network_name.nunique()"
   ]
  },
  {
   "cell_type": "markdown",
   "id": "ee74bcb8-7a8b-46be-86df-c907fb2815e6",
   "metadata": {},
   "source": [
    "* I don't think there's two columns, plan_name and network_names are comparable."
   ]
  },
  {
   "cell_type": "code",
   "execution_count": 26,
   "id": "820f8e01-dee0-4837-aaf0-81850d5dc327",
   "metadata": {},
   "outputs": [
    {
     "data": {
      "text/plain": [
       "(array(['99283', '43239', '872', 'ms-drg 872'], dtype=object),\n",
       " array([  872, 99283, 43239]))"
      ]
     },
     "execution_count": 26,
     "metadata": {},
     "output_type": "execute_result"
    }
   ],
   "source": [
    "# 4\n",
    "dfh.raw_code.unique(), dfp.code.unique() "
   ]
  },
  {
   "cell_type": "code",
   "execution_count": 27,
   "id": "a26a4acb-3574-44b7-84e1-ed09b352db05",
   "metadata": {},
   "outputs": [
    {
     "data": {
      "text/plain": [
       "raw_code\n",
       "43239         0.517136\n",
       "99283         0.354598\n",
       "ms-drg 872    0.098405\n",
       "872           0.029861\n",
       "Name: count, dtype: float64"
      ]
     },
     "execution_count": 27,
     "metadata": {},
     "output_type": "execute_result"
    }
   ],
   "source": [
    "# assumption: both raw_code from hospital and code from payer datasets are the same\n",
    "# Also: ms-dr and 872 are the same\n",
    "dfh.raw_code.value_counts()/len(dfh)"
   ]
  },
  {
   "cell_type": "code",
   "execution_count": 28,
   "id": "9a9e7f40-8260-49f3-aa97-18fa45db9619",
   "metadata": {},
   "outputs": [
    {
     "data": {
      "text/plain": [
       "raw_code\n",
       "43239    0.517136\n",
       "99283    0.354598\n",
       "872      0.128266\n",
       "Name: count, dtype: float64"
      ]
     },
     "execution_count": 28,
     "metadata": {},
     "output_type": "execute_result"
    }
   ],
   "source": [
    "dfh.raw_code = dfh.raw_code.replace('ms-drg 872', '872')\n",
    "dfh.raw_code.value_counts()/len(dfh)"
   ]
  },
  {
   "cell_type": "code",
   "execution_count": 29,
   "id": "eec5903d-f2ed-4b16-9d7c-e9eda1e4b65a",
   "metadata": {},
   "outputs": [],
   "source": [
    "dfh.raw_code = dfh.raw_code.astype(int)"
   ]
  },
  {
   "cell_type": "code",
   "execution_count": 30,
   "id": "6f7c7d17-e677-4d1d-b600-6f7165f1e1f7",
   "metadata": {},
   "outputs": [
    {
     "data": {
      "text/plain": [
       "(array(['62915ae8-8d64-4e2f-b05f-b18edde57a3d',\n",
       "        '5954cbad-a7c5-43f7-b356-8f2ecdad579a',\n",
       "        '40e6a8c8-a68c-4d28-b1d5-fa70d6d09636'], dtype=object),\n",
       " array(['592bc118-0dac-4f38-949c-11dc9b3a3879',\n",
       "        '39f0d406-b5df-4046-9759-f08565e45db7',\n",
       "        '5dbd8f1c-3f56-4806-917b-e495668bf2bf'], dtype=object))"
      ]
     },
     "execution_count": 30,
     "metadata": {},
     "output_type": "execute_result"
    }
   ],
   "source": [
    "#5\n",
    "dfh.hospital_id.unique(),dfp.network_id.unique()"
   ]
  },
  {
   "cell_type": "code",
   "execution_count": 31,
   "id": "3f25500f-0731-40d5-baf5-83e008a348ea",
   "metadata": {},
   "outputs": [
    {
     "data": {
      "text/plain": [
       "set()"
      ]
     },
     "execution_count": 31,
     "metadata": {},
     "output_type": "execute_result"
    }
   ],
   "source": [
    "# Convert columns to sets\n",
    "set1 = set(dfh.hospital_id)\n",
    "set2 = set(dfp.network_id)\n",
    "\n",
    "# Find the overlap (intersection)\n",
    "overlap = set1.intersection(set2)\n",
    "overlap"
   ]
  },
  {
   "cell_type": "code",
   "execution_count": 32,
   "id": "acf48903-527f-4ee8-9953-49db56cd6337",
   "metadata": {},
   "outputs": [
    {
     "data": {
      "text/plain": [
       "(array(['13-1740114', '330024', '7002053h'], dtype=object),\n",
       " array([131740114, 131624096, 133971298]))"
      ]
     },
     "execution_count": 32,
     "metadata": {},
     "output_type": "execute_result"
    }
   ],
   "source": [
    "#6\n",
    "dfh.license_number.unique(), dfp.ein.unique() # as hospital identifiers"
   ]
  },
  {
   "cell_type": "markdown",
   "id": "31d7bcc1-deb4-43c5-a044-c485a7f80186",
   "metadata": {},
   "source": [
    "* seems there is some commonality between '13-1740114' with 131740114"
   ]
  },
  {
   "cell_type": "code",
   "execution_count": 33,
   "id": "63f7c890-e0fd-47da-8dee-c8e865a3ca18",
   "metadata": {},
   "outputs": [
    {
     "data": {
      "text/plain": [
       "license_number\n",
       "7002053h      0.787920\n",
       "13-1740114    0.127927\n",
       "330024        0.084153\n",
       "Name: count, dtype: float64"
      ]
     },
     "execution_count": 33,
     "metadata": {},
     "output_type": "execute_result"
    }
   ],
   "source": [
    "dfh.license_number.value_counts()/len(dfh)"
   ]
  },
  {
   "cell_type": "code",
   "execution_count": 34,
   "id": "e5841529-1cbd-4d8a-859e-1707b1c663d3",
   "metadata": {},
   "outputs": [
    {
     "data": {
      "text/plain": [
       "ein\n",
       "131740114    0.531532\n",
       "133971298    0.247748\n",
       "131624096    0.220721\n",
       "Name: count, dtype: float64"
      ]
     },
     "execution_count": 34,
     "metadata": {},
     "output_type": "execute_result"
    }
   ],
   "source": [
    "dfp.ein.value_counts()/len(dfp)"
   ]
  },
  {
   "cell_type": "code",
   "execution_count": 35,
   "id": "e1d07339-c771-448a-b362-000385a4aa9f",
   "metadata": {},
   "outputs": [],
   "source": [
    "dfp.ein = dfp.ein.astype(str)\n",
    "dfp.ein = dfp.ein.replace('131740114', '13-1740114')"
   ]
  },
  {
   "cell_type": "code",
   "execution_count": 36,
   "id": "75888581-df20-4b45-9b17-3dce7be14b89",
   "metadata": {},
   "outputs": [
    {
     "data": {
      "text/plain": [
       "license_number\n",
       "7002053h      0.787920\n",
       "13-1740114    0.127927\n",
       "330024        0.084153\n",
       "Name: count, dtype: float64"
      ]
     },
     "execution_count": 36,
     "metadata": {},
     "output_type": "execute_result"
    }
   ],
   "source": [
    "dfh.license_number.value_counts()/len(dfh)"
   ]
  },
  {
   "cell_type": "code",
   "execution_count": 37,
   "id": "78988f42-4916-4dbd-8262-8df776da9e3c",
   "metadata": {},
   "outputs": [
    {
     "data": {
      "text/plain": [
       "((2947, 17), (222, 14))"
      ]
     },
     "execution_count": 37,
     "metadata": {},
     "output_type": "execute_result"
    }
   ],
   "source": [
    "# shape before merging \n",
    "dfh.shape, dfp.shape"
   ]
  },
  {
   "cell_type": "code",
   "execution_count": 38,
   "id": "aca32368-0bb3-4a2f-90db-455c8b0e8abc",
   "metadata": {},
   "outputs": [
    {
     "data": {
      "text/plain": [
       "(842, 30)"
      ]
     },
     "execution_count": 38,
     "metadata": {},
     "output_type": "execute_result"
    }
   ],
   "source": [
    "# merging using payer name, code type, billing code and hospital id\n",
    "dfm = pd.merge(dfh, dfp, left_on=['payer_name', 'code_type','raw_code','license_number'], right_on=['payer', 'code_type','code','ein'], how='inner')\n",
    "\n",
    "dfm.shape"
   ]
  },
  {
   "cell_type": "code",
   "execution_count": 39,
   "id": "40da0bc4-dbb7-49c5-84dc-a6a532090faa",
   "metadata": {},
   "outputs": [],
   "source": [
    "dfm= dfm.drop(['hospital_id', 'payer','raw_code','license_number'], axis=1) # we have other identifiers for hospital, payer, code conveying same info"
   ]
  },
  {
   "cell_type": "code",
   "execution_count": 40,
   "id": "1cc4614e-1b05-4b8f-91c2-c070b989c838",
   "metadata": {},
   "outputs": [
    {
     "data": {
      "text/html": [
       "<div>\n",
       "<style scoped>\n",
       "    .dataframe tbody tr th:only-of-type {\n",
       "        vertical-align: middle;\n",
       "    }\n",
       "\n",
       "    .dataframe tbody tr th {\n",
       "        vertical-align: top;\n",
       "    }\n",
       "\n",
       "    .dataframe thead th {\n",
       "        text-align: right;\n",
       "    }\n",
       "</style>\n",
       "<table border=\"1\" class=\"dataframe\">\n",
       "  <thead>\n",
       "    <tr style=\"text-align: right;\">\n",
       "      <th></th>\n",
       "      <th>network_name</th>\n",
       "      <th>payer_name</th>\n",
       "      <th>network_id</th>\n",
       "    </tr>\n",
       "  </thead>\n",
       "  <tbody>\n",
       "    <tr>\n",
       "      <th>0</th>\n",
       "      <td>open-access-managed-choice</td>\n",
       "      <td>aetna</td>\n",
       "      <td>39f0d406-b5df-4046-9759-f08565e45db7</td>\n",
       "    </tr>\n",
       "    <tr>\n",
       "      <th>82</th>\n",
       "      <td>national-oap</td>\n",
       "      <td>cigna-corporation</td>\n",
       "      <td>5dbd8f1c-3f56-4806-917b-e495668bf2bf</td>\n",
       "    </tr>\n",
       "    <tr>\n",
       "      <th>94</th>\n",
       "      <td>choice-plus</td>\n",
       "      <td>unitedhealthcare</td>\n",
       "      <td>592bc118-0dac-4f38-949c-11dc9b3a3879</td>\n",
       "    </tr>\n",
       "  </tbody>\n",
       "</table>\n",
       "</div>"
      ],
      "text/plain": [
       "                  network_name         payer_name  \\\n",
       "0   open-access-managed-choice              aetna   \n",
       "82                national-oap  cigna-corporation   \n",
       "94                 choice-plus   unitedhealthcare   \n",
       "\n",
       "                              network_id  \n",
       "0   39f0d406-b5df-4046-9759-f08565e45db7  \n",
       "82  5dbd8f1c-3f56-4806-917b-e495668bf2bf  \n",
       "94  592bc118-0dac-4f38-949c-11dc9b3a3879  "
      ]
     },
     "execution_count": 40,
     "metadata": {},
     "output_type": "execute_result"
    }
   ],
   "source": [
    "d = dfm[['network_name','payer_name', 'network_id' ]]\n",
    "d.drop_duplicates()"
   ]
  },
  {
   "cell_type": "code",
   "execution_count": 41,
   "id": "e570ae78-4f21-4a6c-8deb-67d08afd6d51",
   "metadata": {},
   "outputs": [
    {
     "data": {
      "text/plain": [
       "payer_name\n",
       "aetna                0.779097\n",
       "unitedhealthcare     0.141330\n",
       "cigna-corporation    0.079572\n",
       "Name: count, dtype: float64"
      ]
     },
     "execution_count": 41,
     "metadata": {},
     "output_type": "execute_result"
    }
   ],
   "source": [
    "dfm.payer_name.value_counts()/len(dfm)    "
   ]
  },
  {
   "cell_type": "code",
   "execution_count": 42,
   "id": "04c068e7-64cb-4851-b69e-4dac21bf78c4",
   "metadata": {},
   "outputs": [],
   "source": [
    "dfm = dfm.drop(['network_name', 'network_id'],axis=1) # same info about pay with different version of identifiers "
   ]
  },
  {
   "cell_type": "code",
   "execution_count": 43,
   "id": "d4ad2bf7-2131-4033-8314-f504015512ac",
   "metadata": {},
   "outputs": [
    {
     "data": {
      "text/plain": [
       "hospital_name\n",
       "montefiore medical center    1.0\n",
       "Name: count, dtype: float64"
      ]
     },
     "execution_count": 43,
     "metadata": {},
     "output_type": "execute_result"
    }
   ],
   "source": [
    "dfm.hospital_name.value_counts()/len(dfm)"
   ]
  },
  {
   "cell_type": "code",
   "execution_count": 44,
   "id": "c3fa0f6e-6151-43ec-a4f5-342463284063",
   "metadata": {},
   "outputs": [
    {
     "data": {
      "text/plain": [
       "code\n",
       "43239    0.557007\n",
       "99283    0.437055\n",
       "872      0.005938\n",
       "Name: count, dtype: float64"
      ]
     },
     "execution_count": 44,
     "metadata": {},
     "output_type": "execute_result"
    }
   ],
   "source": [
    "dfm.code.value_counts()/len(dfm)"
   ]
  },
  {
   "cell_type": "code",
   "execution_count": 45,
   "id": "8521afb3-d022-4b9f-a2e1-f1266ed17557",
   "metadata": {},
   "outputs": [
    {
     "data": {
      "text/plain": [
       "hospital_name\n",
       "montefiore medical center    842\n",
       "Name: count, dtype: int64"
      ]
     },
     "execution_count": 45,
     "metadata": {},
     "output_type": "execute_result"
    }
   ],
   "source": [
    "dfm.hospital_name.value_counts()"
   ]
  },
  {
   "cell_type": "code",
   "execution_count": 46,
   "id": "28f18981-db8c-4a02-a338-f8424b861e72",
   "metadata": {},
   "outputs": [
    {
     "data": {
      "text/plain": [
       "(842, 24)"
      ]
     },
     "execution_count": 46,
     "metadata": {},
     "output_type": "execute_result"
    }
   ],
   "source": [
    "dfm.shape"
   ]
  },
  {
   "cell_type": "code",
   "execution_count": 47,
   "id": "1c6a087d-eee3-4eca-8b9b-aee2085ced8c",
   "metadata": {},
   "outputs": [
    {
     "name": "stdout",
     "output_type": "stream",
     "text": [
      "<class 'pandas.core.frame.DataFrame'>\n",
      "RangeIndex: 842 entries, 0 to 841\n",
      "Data columns (total 24 columns):\n",
      " #   Column                                 Non-Null Count  Dtype  \n",
      "---  ------                                 --------------  -----  \n",
      " 0   hospital_name                          842 non-null    object \n",
      " 1   payer_name                             842 non-null    object \n",
      " 2   plan_name                              842 non-null    object \n",
      " 3   code_type                              842 non-null    object \n",
      " 4   setting                                842 non-null    object \n",
      " 5   standard_charge_gross                  421 non-null    float64\n",
      " 6   standard_charge_discounted_cash        421 non-null    float64\n",
      " 7   standard_charge_negotiated_dollar      842 non-null    float64\n",
      " 8   standard_charge_negotiated_percentage  0 non-null      float64\n",
      " 9   standard_charge_min                    842 non-null    float64\n",
      " 10  standard_charge_max                    842 non-null    float64\n",
      " 11  standard_charge_methodology            842 non-null    object \n",
      " 12  additional_payer_notes                 0 non-null      object \n",
      " 13  additional_generic_notes               12 non-null     object \n",
      " 14  code                                   842 non-null    int64  \n",
      " 15  ein                                    842 non-null    object \n",
      " 16  taxonomy_filtered_npi_list             815 non-null    object \n",
      " 17  modifier_list                          14 non-null     object \n",
      " 18  billing_class                          842 non-null    object \n",
      " 19  place_of_service_list                  824 non-null    object \n",
      " 20  negotiation_type                       842 non-null    object \n",
      " 21  rate                                   842 non-null    float64\n",
      " 22  cms_baseline_schedule                  835 non-null    object \n",
      " 23  cms_baseline_rate                      835 non-null    float64\n",
      "dtypes: float64(8), int64(1), object(15)\n",
      "memory usage: 158.0+ KB\n"
     ]
    }
   ],
   "source": [
    "dfm.info()"
   ]
  },
  {
   "cell_type": "markdown",
   "id": "a4a611fd-abd8-4112-a036-9cdfafcf6ae9",
   "metadata": {},
   "source": [
    "* The merge dataset consists of payer_name (aetna, united healthcare, cigna), Montefiore Medical Center, billing code (43239, 99283,872) with 842 rows."
   ]
  },
  {
   "cell_type": "code",
   "execution_count": 48,
   "id": "45c0982b-5bf3-463a-84b7-c7b7bf9e2c34",
   "metadata": {},
   "outputs": [],
   "source": [
    "dfm['code'] = dfm['code'].astype(int).astype(str)\n",
    "dfm['payer_code'] = dfm['payer_name'] + '_'+ dfm['code'] \n",
    "\n",
    "dfm = dfm.drop(['hospital_name',  'payer_name', 'code'],axis=1) # Montefiore Medical Center is the only hospital"
   ]
  },
  {
   "cell_type": "code",
   "execution_count": 49,
   "id": "cd9a140f-3275-4261-ba21-d021163e8ebc",
   "metadata": {},
   "outputs": [
    {
     "data": {
      "text/plain": [
       "(8,\n",
       " payer_code\n",
       " aetna_43239                0.438242\n",
       " aetna_99283                0.340855\n",
       " unitedhealthcare_43239     0.083135\n",
       " unitedhealthcare_99283     0.053444\n",
       " cigna-corporation_99283    0.042755\n",
       " cigna-corporation_43239    0.035629\n",
       " unitedhealthcare_872       0.004751\n",
       " cigna-corporation_872      0.001188\n",
       " Name: count, dtype: float64)"
      ]
     },
     "execution_count": 49,
     "metadata": {},
     "output_type": "execute_result"
    }
   ],
   "source": [
    "dfm['payer_code'].nunique() , dfm['payer_code'].value_counts()/len(dfm)"
   ]
  },
  {
   "cell_type": "markdown",
   "id": "603f0083-ee20-46fd-bc50-45fbb032fb73",
   "metadata": {},
   "source": [
    "These columns — `standard_charge_negotiated_dollar`, `standard_charge_min`, `standard_charge_max`, `rate`, and `cms_baseline_rate` — represent different aspects of pricing in healthcare.<br>\n",
    "\t•\tBelow are some assumptions about their definitions:<br>\n",
    "\t•\t`standard_charge_negotiated_dollar`: Represents the negotiated rate paid by the payer to the hospital for a specific service when a patient covered under their plan receives care.<br>\n",
    "\t•\t`standard_charge_min` and `standard_charge_max`: Indicate the minimum and maximum charges that a hospital has negotiated across all payers for a specific service. These values are “de-identified,” meaning they do not disclose which payer is associated with the rates.<br>\n",
    "\t•\t`rate`: Refers to the final amount paid by the payer (insurance company or CMS) to the hospital after applying discounts, adjustments, or other factors.<br>\n",
    "\t•\t`cms_baseline_rate`: Represents the payment amount set by the Centers for Medicare & Medicaid Services (CMS) based on baseline rates derived from the Medicare fee schedule or other standardized payment methodologies."
   ]
  },
  {
   "cell_type": "markdown",
   "id": "8a62a08b-f02a-4c7a-869b-fc68fe63ff69",
   "metadata": {},
   "source": [
    "* Let's filter down more columns by checking whether they get 1 value within hospital-payer-code combo."
   ]
  },
  {
   "cell_type": "code",
   "execution_count": 50,
   "id": "2a0e0c62-66a1-4f5b-86d7-c9e77c16d449",
   "metadata": {},
   "outputs": [
    {
     "data": {
      "text/plain": [
       "Index(['payer_code', 'plan_name', 'code_type', 'setting',\n",
       "       'standard_charge_methodology', 'ein', 'negotiation_type',\n",
       "       'billing_class', 'plan_name_value_changed', 'code_type_value_changed',\n",
       "       'setting_value_changed', 'standard_charge_methodology_value_changed',\n",
       "       'ein_value_changed', 'negotiation_type_value_changed',\n",
       "       'billing_class_value_changed'],\n",
       "      dtype='object')"
      ]
     },
     "execution_count": 50,
     "metadata": {},
     "output_type": "execute_result"
    }
   ],
   "source": [
    "# save selected str columns which may take various values within same payer_code\n",
    "df_c =dfm[['payer_code','plan_name', 'code_type', 'setting',\n",
    "       'standard_charge_methodology','ein','negotiation_type','billing_class']].copy()\n",
    "\n",
    "# checking for frequency of within 'hospital_payer_code'\n",
    "\n",
    "for i in ['plan_name', 'code_type', 'setting',\n",
    "       'standard_charge_methodology','ein','negotiation_type','billing_class']:\n",
    "    df_c[i + '_value_changed']= df_c.groupby(['payer_code'])[i].transform('nunique') > 1\n",
    "\n",
    "df_c.columns"
   ]
  },
  {
   "cell_type": "code",
   "execution_count": 51,
   "id": "9e88ea86-a237-467b-ac85-1a992b4c7fe6",
   "metadata": {},
   "outputs": [
    {
     "data": {
      "text/html": [
       "<div>\n",
       "<style scoped>\n",
       "    .dataframe tbody tr th:only-of-type {\n",
       "        vertical-align: middle;\n",
       "    }\n",
       "\n",
       "    .dataframe tbody tr th {\n",
       "        vertical-align: top;\n",
       "    }\n",
       "\n",
       "    .dataframe thead th {\n",
       "        text-align: right;\n",
       "    }\n",
       "</style>\n",
       "<table border=\"1\" class=\"dataframe\">\n",
       "  <thead>\n",
       "    <tr style=\"text-align: right;\">\n",
       "      <th></th>\n",
       "      <th>plan_name_value_changed</th>\n",
       "      <th>code_type_value_changed</th>\n",
       "      <th>setting_value_changed</th>\n",
       "      <th>standard_charge_methodology_value_changed</th>\n",
       "      <th>ein_value_changed</th>\n",
       "      <th>negotiation_type_value_changed</th>\n",
       "      <th>billing_class_value_changed</th>\n",
       "    </tr>\n",
       "  </thead>\n",
       "  <tbody>\n",
       "    <tr>\n",
       "      <th>count</th>\n",
       "      <td>842</td>\n",
       "      <td>842</td>\n",
       "      <td>842</td>\n",
       "      <td>842</td>\n",
       "      <td>842</td>\n",
       "      <td>842</td>\n",
       "      <td>842</td>\n",
       "    </tr>\n",
       "    <tr>\n",
       "      <th>unique</th>\n",
       "      <td>2</td>\n",
       "      <td>1</td>\n",
       "      <td>2</td>\n",
       "      <td>2</td>\n",
       "      <td>1</td>\n",
       "      <td>2</td>\n",
       "      <td>2</td>\n",
       "    </tr>\n",
       "    <tr>\n",
       "      <th>top</th>\n",
       "      <td>True</td>\n",
       "      <td>False</td>\n",
       "      <td>True</td>\n",
       "      <td>True</td>\n",
       "      <td>False</td>\n",
       "      <td>True</td>\n",
       "      <td>True</td>\n",
       "    </tr>\n",
       "    <tr>\n",
       "      <th>freq</th>\n",
       "      <td>841</td>\n",
       "      <td>842</td>\n",
       "      <td>722</td>\n",
       "      <td>435</td>\n",
       "      <td>842</td>\n",
       "      <td>656</td>\n",
       "      <td>475</td>\n",
       "    </tr>\n",
       "  </tbody>\n",
       "</table>\n",
       "</div>"
      ],
      "text/plain": [
       "       plan_name_value_changed code_type_value_changed setting_value_changed  \\\n",
       "count                      842                     842                   842   \n",
       "unique                       2                       1                     2   \n",
       "top                       True                   False                  True   \n",
       "freq                       841                     842                   722   \n",
       "\n",
       "       standard_charge_methodology_value_changed ein_value_changed  \\\n",
       "count                                        842               842   \n",
       "unique                                         2                 1   \n",
       "top                                         True             False   \n",
       "freq                                         435               842   \n",
       "\n",
       "       negotiation_type_value_changed billing_class_value_changed  \n",
       "count                             842                         842  \n",
       "unique                              2                           2  \n",
       "top                              True                        True  \n",
       "freq                              656                         475  "
      ]
     },
     "execution_count": 51,
     "metadata": {},
     "output_type": "execute_result"
    }
   ],
   "source": [
    "df_c[['plan_name_value_changed',\n",
    "       'code_type_value_changed', 'setting_value_changed',\n",
    "       'standard_charge_methodology_value_changed', 'ein_value_changed',\n",
    "       'negotiation_type_value_changed', 'billing_class_value_changed']].describe()"
   ]
  },
  {
   "cell_type": "markdown",
   "id": "eccb326c-07f5-4dcb-9e11-5d6b9b18c955",
   "metadata": {},
   "source": [
    "* Based on this table, most of the `payer_code` entries have two distinct values for `plan_name`, `standard_charge_methodology`, `setting`, `negotiation_type`, and `billing_class`, which can contribute to differences in the rates.<br>\n",
    "* The majority of `plan_name` combinations, however, have a single value for `plan_name`. For simplicity, I dropped this column since 841 out of 842 rows contain only one unique value."
   ]
  },
  {
   "cell_type": "code",
   "execution_count": 52,
   "id": "159960ee-0741-4308-801e-107120601088",
   "metadata": {},
   "outputs": [
    {
     "data": {
      "text/plain": [
       "(842, 19)"
      ]
     },
     "execution_count": 52,
     "metadata": {},
     "output_type": "execute_result"
    }
   ],
   "source": [
    "# drop code_type, license_number since they only take 1 value within same hospital_payer_code\n",
    "dfm = dfm.drop(['code_type','ein','plan_name'],axis=1)\n",
    "dfm.shape"
   ]
  },
  {
   "cell_type": "code",
   "execution_count": 53,
   "id": "ddff5be8-c74f-4ca0-bf9e-b6a2463f95fe",
   "metadata": {},
   "outputs": [
    {
     "data": {
      "text/plain": [
       "additional_generic_notes                 0.985748\n",
       "standard_charge_negotiated_percentage    1.000000\n",
       "modifier_list                            0.983373\n",
       "dtype: float64"
      ]
     },
     "execution_count": 53,
     "metadata": {},
     "output_type": "execute_result"
    }
   ],
   "source": [
    "dfm[['additional_generic_notes','standard_charge_negotiated_percentage','modifier_list']].isna().sum()/len(dfm)"
   ]
  },
  {
   "cell_type": "code",
   "execution_count": 54,
   "id": "536bb748-6788-4a2a-be98-2450020e5b7d",
   "metadata": {},
   "outputs": [
    {
     "data": {
      "text/plain": [
       "(842, 16)"
      ]
     },
     "execution_count": 54,
     "metadata": {},
     "output_type": "execute_result"
    }
   ],
   "source": [
    "# dropping these columns because they are a large number of missing values\n",
    "dfm = dfm.drop(['additional_generic_notes','standard_charge_negotiated_percentage','modifier_list'],axis=1)\n",
    "dfm.shape"
   ]
  },
  {
   "cell_type": "code",
   "execution_count": 55,
   "id": "b0af7913-47c8-4343-8521-e764f682ddf2",
   "metadata": {},
   "outputs": [
    {
     "data": {
      "text/plain": [
       "48"
      ]
     },
     "execution_count": 55,
     "metadata": {},
     "output_type": "execute_result"
    }
   ],
   "source": [
    "len(dfm[dfm.duplicated()])"
   ]
  },
  {
   "cell_type": "code",
   "execution_count": 56,
   "id": "e4e0efc7-3d62-4fba-8e5d-a88000a0f194",
   "metadata": {
    "scrolled": true
   },
   "outputs": [],
   "source": [
    "# having a count for values in npi_list and place_of_service_list is easier to work with compared to the list itself\n",
    "dfm['count_npi'] = dfm['taxonomy_filtered_npi_list'].apply(lambda x: len(str(x).split(',')) if pd.notnull(x) else 0)\n",
    "dfm['count_place_service'] = dfm['place_of_service_list'].apply(lambda x: len(str(x).split(',')) if pd.notnull(x) else 0)\n",
    "\n",
    "dfm = dfm.drop(['taxonomy_filtered_npi_list','place_of_service_list'], axis=1)"
   ]
  },
  {
   "cell_type": "markdown",
   "id": "d0768fb5-b40c-42e8-8bc2-13c815ce4733",
   "metadata": {},
   "source": [
    "`place_of_service_list` according to https://www.cms.gov/medicare/coding-billing/place-of-service-codes/code-sets service codes and descriptions which is used on professional claims to specify the entity where services were rendered, e.g. 01 means Pharmacy.\n",
    "\n",
    "`taxonomy_filtered_npi_list`: NPI (National Provider Identifier) lists, off-campus outpatient offices and main hospital campuses for billing purposes."
   ]
  },
  {
   "cell_type": "code",
   "execution_count": 57,
   "id": "aa966482-3bb7-4838-a246-5e099d22839b",
   "metadata": {},
   "outputs": [
    {
     "data": {
      "text/plain": [
       "55"
      ]
     },
     "execution_count": 57,
     "metadata": {},
     "output_type": "execute_result"
    }
   ],
   "source": [
    "len(dfm[dfm.duplicated()])"
   ]
  },
  {
   "cell_type": "code",
   "execution_count": 58,
   "id": "e62d40db-0cac-4024-b0cf-c0cdc339fcc7",
   "metadata": {},
   "outputs": [
    {
     "data": {
      "text/plain": [
       "(787, 16)"
      ]
     },
     "execution_count": 58,
     "metadata": {},
     "output_type": "execute_result"
    }
   ],
   "source": [
    "dfm = dfm.drop_duplicates()\n",
    "dfm.shape"
   ]
  },
  {
   "cell_type": "code",
   "execution_count": 59,
   "id": "f27cdd0c-9098-4c84-a281-1ffb11dedceb",
   "metadata": {},
   "outputs": [
    {
     "data": {
      "text/plain": [
       "Index(['setting', 'standard_charge_gross', 'standard_charge_discounted_cash',\n",
       "       'standard_charge_negotiated_dollar', 'standard_charge_min',\n",
       "       'standard_charge_max', 'standard_charge_methodology',\n",
       "       'additional_payer_notes', 'billing_class', 'negotiation_type', 'rate',\n",
       "       'cms_baseline_schedule', 'cms_baseline_rate', 'payer_code', 'count_npi',\n",
       "       'count_place_service'],\n",
       "      dtype='object')"
      ]
     },
     "execution_count": 59,
     "metadata": {},
     "output_type": "execute_result"
    }
   ],
   "source": [
    "dfm.columns"
   ]
  },
  {
   "cell_type": "code",
   "execution_count": 60,
   "id": "26a1d3a3-12cd-4929-ae7e-3f9240e22158",
   "metadata": {},
   "outputs": [],
   "source": [
    "dfm = dfm[['payer_code', 'setting','count_npi','count_place_service','standard_charge_gross', 'standard_charge_discounted_cash',\n",
    "       'standard_charge_negotiated_dollar', 'standard_charge_min',\n",
    "       'standard_charge_max', 'standard_charge_methodology',\n",
    "       'additional_payer_notes', 'billing_class', 'negotiation_type', 'rate',\n",
    "       'cms_baseline_schedule', 'cms_baseline_rate']]"
   ]
  },
  {
   "cell_type": "code",
   "execution_count": 61,
   "id": "532579c6-a90c-4868-ba20-4713c589f20d",
   "metadata": {},
   "outputs": [
    {
     "data": {
      "text/html": [
       "<div>\n",
       "<style scoped>\n",
       "    .dataframe tbody tr th:only-of-type {\n",
       "        vertical-align: middle;\n",
       "    }\n",
       "\n",
       "    .dataframe tbody tr th {\n",
       "        vertical-align: top;\n",
       "    }\n",
       "\n",
       "    .dataframe thead th {\n",
       "        text-align: right;\n",
       "    }\n",
       "</style>\n",
       "<table border=\"1\" class=\"dataframe\">\n",
       "  <thead>\n",
       "    <tr style=\"text-align: right;\">\n",
       "      <th></th>\n",
       "      <th>payer_code</th>\n",
       "      <th>setting</th>\n",
       "      <th>count_npi</th>\n",
       "      <th>count_place_service</th>\n",
       "      <th>standard_charge_gross</th>\n",
       "      <th>standard_charge_discounted_cash</th>\n",
       "      <th>standard_charge_negotiated_dollar</th>\n",
       "      <th>standard_charge_min</th>\n",
       "      <th>standard_charge_max</th>\n",
       "      <th>standard_charge_methodology</th>\n",
       "      <th>additional_payer_notes</th>\n",
       "      <th>billing_class</th>\n",
       "      <th>negotiation_type</th>\n",
       "      <th>rate</th>\n",
       "      <th>cms_baseline_schedule</th>\n",
       "      <th>cms_baseline_rate</th>\n",
       "    </tr>\n",
       "  </thead>\n",
       "  <tbody>\n",
       "    <tr>\n",
       "      <th>0</th>\n",
       "      <td>aetna_99283</td>\n",
       "      <td>outpatient</td>\n",
       "      <td>2</td>\n",
       "      <td>49</td>\n",
       "      <td>NaN</td>\n",
       "      <td>NaN</td>\n",
       "      <td>323.34</td>\n",
       "      <td>83.78</td>\n",
       "      <td>1009.22</td>\n",
       "      <td>fee schedule</td>\n",
       "      <td>NaN</td>\n",
       "      <td>professional</td>\n",
       "      <td>negotiated</td>\n",
       "      <td>46.39</td>\n",
       "      <td>pfs_nonfacility_1240201</td>\n",
       "      <td>73.68</td>\n",
       "    </tr>\n",
       "    <tr>\n",
       "      <th>1</th>\n",
       "      <td>aetna_99283</td>\n",
       "      <td>outpatient</td>\n",
       "      <td>2</td>\n",
       "      <td>49</td>\n",
       "      <td>NaN</td>\n",
       "      <td>NaN</td>\n",
       "      <td>323.34</td>\n",
       "      <td>83.78</td>\n",
       "      <td>1009.22</td>\n",
       "      <td>fee schedule</td>\n",
       "      <td>NaN</td>\n",
       "      <td>professional</td>\n",
       "      <td>negotiated</td>\n",
       "      <td>298.06</td>\n",
       "      <td>pfs_nonfacility_1240201</td>\n",
       "      <td>73.68</td>\n",
       "    </tr>\n",
       "    <tr>\n",
       "      <th>2</th>\n",
       "      <td>aetna_99283</td>\n",
       "      <td>outpatient</td>\n",
       "      <td>2</td>\n",
       "      <td>49</td>\n",
       "      <td>NaN</td>\n",
       "      <td>NaN</td>\n",
       "      <td>323.34</td>\n",
       "      <td>83.78</td>\n",
       "      <td>1009.22</td>\n",
       "      <td>fee schedule</td>\n",
       "      <td>NaN</td>\n",
       "      <td>professional</td>\n",
       "      <td>negotiated</td>\n",
       "      <td>67.85</td>\n",
       "      <td>pfs_nonfacility_1320202</td>\n",
       "      <td>78.59</td>\n",
       "    </tr>\n",
       "    <tr>\n",
       "      <th>3</th>\n",
       "      <td>aetna_99283</td>\n",
       "      <td>outpatient</td>\n",
       "      <td>2706</td>\n",
       "      <td>49</td>\n",
       "      <td>NaN</td>\n",
       "      <td>NaN</td>\n",
       "      <td>323.34</td>\n",
       "      <td>83.78</td>\n",
       "      <td>1009.22</td>\n",
       "      <td>fee schedule</td>\n",
       "      <td>NaN</td>\n",
       "      <td>professional</td>\n",
       "      <td>negotiated</td>\n",
       "      <td>298.06</td>\n",
       "      <td>pfs_nonfacility_1320202</td>\n",
       "      <td>78.59</td>\n",
       "    </tr>\n",
       "    <tr>\n",
       "      <th>4</th>\n",
       "      <td>aetna_99283</td>\n",
       "      <td>outpatient</td>\n",
       "      <td>1</td>\n",
       "      <td>49</td>\n",
       "      <td>NaN</td>\n",
       "      <td>NaN</td>\n",
       "      <td>323.34</td>\n",
       "      <td>83.78</td>\n",
       "      <td>1009.22</td>\n",
       "      <td>fee schedule</td>\n",
       "      <td>NaN</td>\n",
       "      <td>professional</td>\n",
       "      <td>negotiated</td>\n",
       "      <td>57.96</td>\n",
       "      <td>pfs_nonfacility_1320202</td>\n",
       "      <td>78.59</td>\n",
       "    </tr>\n",
       "  </tbody>\n",
       "</table>\n",
       "</div>"
      ],
      "text/plain": [
       "    payer_code     setting  count_npi  count_place_service  \\\n",
       "0  aetna_99283  outpatient          2                   49   \n",
       "1  aetna_99283  outpatient          2                   49   \n",
       "2  aetna_99283  outpatient          2                   49   \n",
       "3  aetna_99283  outpatient       2706                   49   \n",
       "4  aetna_99283  outpatient          1                   49   \n",
       "\n",
       "   standard_charge_gross  standard_charge_discounted_cash  \\\n",
       "0                    NaN                              NaN   \n",
       "1                    NaN                              NaN   \n",
       "2                    NaN                              NaN   \n",
       "3                    NaN                              NaN   \n",
       "4                    NaN                              NaN   \n",
       "\n",
       "   standard_charge_negotiated_dollar  standard_charge_min  \\\n",
       "0                             323.34                83.78   \n",
       "1                             323.34                83.78   \n",
       "2                             323.34                83.78   \n",
       "3                             323.34                83.78   \n",
       "4                             323.34                83.78   \n",
       "\n",
       "   standard_charge_max standard_charge_methodology additional_payer_notes  \\\n",
       "0              1009.22                fee schedule                    NaN   \n",
       "1              1009.22                fee schedule                    NaN   \n",
       "2              1009.22                fee schedule                    NaN   \n",
       "3              1009.22                fee schedule                    NaN   \n",
       "4              1009.22                fee schedule                    NaN   \n",
       "\n",
       "  billing_class negotiation_type    rate    cms_baseline_schedule  \\\n",
       "0  professional       negotiated   46.39  pfs_nonfacility_1240201   \n",
       "1  professional       negotiated  298.06  pfs_nonfacility_1240201   \n",
       "2  professional       negotiated   67.85  pfs_nonfacility_1320202   \n",
       "3  professional       negotiated  298.06  pfs_nonfacility_1320202   \n",
       "4  professional       negotiated   57.96  pfs_nonfacility_1320202   \n",
       "\n",
       "   cms_baseline_rate  \n",
       "0              73.68  \n",
       "1              73.68  \n",
       "2              78.59  \n",
       "3              78.59  \n",
       "4              78.59  "
      ]
     },
     "execution_count": 61,
     "metadata": {},
     "output_type": "execute_result"
    }
   ],
   "source": [
    "dfm.head()"
   ]
  },
  {
   "cell_type": "code",
   "execution_count": 62,
   "id": "741392d3-43d5-4564-91b3-1348a88d5adf",
   "metadata": {},
   "outputs": [
    {
     "name": "stdout",
     "output_type": "stream",
     "text": [
      "<class 'pandas.core.frame.DataFrame'>\n",
      "Index: 787 entries, 0 to 828\n",
      "Data columns (total 16 columns):\n",
      " #   Column                             Non-Null Count  Dtype  \n",
      "---  ------                             --------------  -----  \n",
      " 0   payer_code                         787 non-null    object \n",
      " 1   setting                            787 non-null    object \n",
      " 2   count_npi                          787 non-null    int64  \n",
      " 3   count_place_service                787 non-null    int64  \n",
      " 4   standard_charge_gross              372 non-null    float64\n",
      " 5   standard_charge_discounted_cash    372 non-null    float64\n",
      " 6   standard_charge_negotiated_dollar  787 non-null    float64\n",
      " 7   standard_charge_min                787 non-null    float64\n",
      " 8   standard_charge_max                787 non-null    float64\n",
      " 9   standard_charge_methodology        787 non-null    object \n",
      " 10  additional_payer_notes             0 non-null      object \n",
      " 11  billing_class                      787 non-null    object \n",
      " 12  negotiation_type                   787 non-null    object \n",
      " 13  rate                               787 non-null    float64\n",
      " 14  cms_baseline_schedule              780 non-null    object \n",
      " 15  cms_baseline_rate                  780 non-null    float64\n",
      "dtypes: float64(7), int64(2), object(7)\n",
      "memory usage: 104.5+ KB\n"
     ]
    }
   ],
   "source": [
    "dfm.info()"
   ]
  },
  {
   "cell_type": "code",
   "execution_count": 63,
   "id": "39869fa2-24cd-47c6-bef7-a211db7aa952",
   "metadata": {},
   "outputs": [
    {
     "data": {
      "text/plain": [
       "116"
      ]
     },
     "execution_count": 63,
     "metadata": {},
     "output_type": "execute_result"
    }
   ],
   "source": [
    "# dropping because of missing values\n",
    "\n",
    "dfm = dfm.drop(['standard_charge_gross','standard_charge_discounted_cash','additional_payer_notes'], axis=1)\n",
    "len(dfm[dfm.duplicated()])"
   ]
  },
  {
   "cell_type": "code",
   "execution_count": 64,
   "id": "d77fa29b-1033-48a1-aecb-40c0d2296a48",
   "metadata": {},
   "outputs": [
    {
     "data": {
      "text/plain": [
       "(671, 13)"
      ]
     },
     "execution_count": 64,
     "metadata": {},
     "output_type": "execute_result"
    }
   ],
   "source": [
    "dfm = dfm.drop_duplicates()\n",
    "dfm.shape"
   ]
  },
  {
   "cell_type": "code",
   "execution_count": 65,
   "id": "30d0a260-74aa-4cec-9a2e-94211d7a976c",
   "metadata": {},
   "outputs": [
    {
     "data": {
      "text/plain": [
       "payer_code\n",
       "aetna_43239                287\n",
       "aetna_99283                280\n",
       "unitedhealthcare_99283      36\n",
       "unitedhealthcare_43239      28\n",
       "cigna-corporation_99283     24\n",
       "cigna-corporation_43239     12\n",
       "unitedhealthcare_872         3\n",
       "cigna-corporation_872        1\n",
       "Name: count, dtype: int64"
      ]
     },
     "execution_count": 65,
     "metadata": {},
     "output_type": "execute_result"
    }
   ],
   "source": [
    "dfm.payer_code.value_counts()"
   ]
  },
  {
   "cell_type": "markdown",
   "id": "250af89a-385b-499d-b33c-ec7af98850bb",
   "metadata": {},
   "source": [
    "### Example 1:  United healthcare payer for 872 code (SEPTICEMIA)::"
   ]
  },
  {
   "cell_type": "code",
   "execution_count": 66,
   "id": "1e6ccf37-d936-4ab7-a07b-8f516d1b3c8d",
   "metadata": {},
   "outputs": [
    {
     "data": {
      "text/html": [
       "<div>\n",
       "<style scoped>\n",
       "    .dataframe tbody tr th:only-of-type {\n",
       "        vertical-align: middle;\n",
       "    }\n",
       "\n",
       "    .dataframe tbody tr th {\n",
       "        vertical-align: top;\n",
       "    }\n",
       "\n",
       "    .dataframe thead th {\n",
       "        text-align: right;\n",
       "    }\n",
       "</style>\n",
       "<table border=\"1\" class=\"dataframe\">\n",
       "  <thead>\n",
       "    <tr style=\"text-align: right;\">\n",
       "      <th></th>\n",
       "      <th>payer_code</th>\n",
       "      <th>setting</th>\n",
       "      <th>count_npi</th>\n",
       "      <th>count_place_service</th>\n",
       "      <th>standard_charge_negotiated_dollar</th>\n",
       "      <th>standard_charge_min</th>\n",
       "      <th>standard_charge_max</th>\n",
       "      <th>standard_charge_methodology</th>\n",
       "      <th>billing_class</th>\n",
       "      <th>negotiation_type</th>\n",
       "      <th>rate</th>\n",
       "      <th>cms_baseline_schedule</th>\n",
       "      <th>cms_baseline_rate</th>\n",
       "    </tr>\n",
       "  </thead>\n",
       "  <tbody>\n",
       "    <tr>\n",
       "      <th>183</th>\n",
       "      <td>unitedhealthcare_872</td>\n",
       "      <td>inpatient</td>\n",
       "      <td>23</td>\n",
       "      <td>0</td>\n",
       "      <td>57020.41</td>\n",
       "      <td>4296.35</td>\n",
       "      <td>57084.61</td>\n",
       "      <td>fee schedule</td>\n",
       "      <td>institutional</td>\n",
       "      <td>negotiated</td>\n",
       "      <td>15902.0</td>\n",
       "      <td>ipps</td>\n",
       "      <td>6829.75</td>\n",
       "    </tr>\n",
       "    <tr>\n",
       "      <th>744</th>\n",
       "      <td>unitedhealthcare_872</td>\n",
       "      <td>inpatient</td>\n",
       "      <td>23</td>\n",
       "      <td>0</td>\n",
       "      <td>13570.00</td>\n",
       "      <td>4296.35</td>\n",
       "      <td>57084.61</td>\n",
       "      <td>fee schedule</td>\n",
       "      <td>institutional</td>\n",
       "      <td>negotiated</td>\n",
       "      <td>15902.0</td>\n",
       "      <td>ipps</td>\n",
       "      <td>6829.75</td>\n",
       "    </tr>\n",
       "    <tr>\n",
       "      <th>745</th>\n",
       "      <td>unitedhealthcare_872</td>\n",
       "      <td>inpatient</td>\n",
       "      <td>23</td>\n",
       "      <td>0</td>\n",
       "      <td>53002.77</td>\n",
       "      <td>4296.35</td>\n",
       "      <td>57084.61</td>\n",
       "      <td>fee schedule</td>\n",
       "      <td>institutional</td>\n",
       "      <td>negotiated</td>\n",
       "      <td>15902.0</td>\n",
       "      <td>ipps</td>\n",
       "      <td>6829.75</td>\n",
       "    </tr>\n",
       "  </tbody>\n",
       "</table>\n",
       "</div>"
      ],
      "text/plain": [
       "               payer_code    setting  count_npi  count_place_service  \\\n",
       "183  unitedhealthcare_872  inpatient         23                    0   \n",
       "744  unitedhealthcare_872  inpatient         23                    0   \n",
       "745  unitedhealthcare_872  inpatient         23                    0   \n",
       "\n",
       "     standard_charge_negotiated_dollar  standard_charge_min  \\\n",
       "183                           57020.41              4296.35   \n",
       "744                           13570.00              4296.35   \n",
       "745                           53002.77              4296.35   \n",
       "\n",
       "     standard_charge_max standard_charge_methodology  billing_class  \\\n",
       "183             57084.61                fee schedule  institutional   \n",
       "744             57084.61                fee schedule  institutional   \n",
       "745             57084.61                fee schedule  institutional   \n",
       "\n",
       "    negotiation_type     rate cms_baseline_schedule  cms_baseline_rate  \n",
       "183       negotiated  15902.0                  ipps            6829.75  \n",
       "744       negotiated  15902.0                  ipps            6829.75  \n",
       "745       negotiated  15902.0                  ipps            6829.75  "
      ]
     },
     "execution_count": 66,
     "metadata": {},
     "output_type": "execute_result"
    }
   ],
   "source": [
    "e1 = dfm[dfm.payer_code=='unitedhealthcare_872']\n",
    "\n",
    "e1"
   ]
  },
  {
   "cell_type": "code",
   "execution_count": 67,
   "id": "15064afb-05c3-49d5-97c4-23c50e6f2ce0",
   "metadata": {},
   "outputs": [
    {
     "data": {
      "text/html": [
       "<div>\n",
       "<style scoped>\n",
       "    .dataframe tbody tr th:only-of-type {\n",
       "        vertical-align: middle;\n",
       "    }\n",
       "\n",
       "    .dataframe tbody tr th {\n",
       "        vertical-align: top;\n",
       "    }\n",
       "\n",
       "    .dataframe thead th {\n",
       "        text-align: right;\n",
       "    }\n",
       "</style>\n",
       "<table border=\"1\" class=\"dataframe\">\n",
       "  <thead>\n",
       "    <tr style=\"text-align: right;\">\n",
       "      <th></th>\n",
       "      <th>standard_charge_negotiated_dollar</th>\n",
       "    </tr>\n",
       "  </thead>\n",
       "  <tbody>\n",
       "    <tr>\n",
       "      <th>183</th>\n",
       "      <td>57020.41</td>\n",
       "    </tr>\n",
       "    <tr>\n",
       "      <th>744</th>\n",
       "      <td>13570.00</td>\n",
       "    </tr>\n",
       "    <tr>\n",
       "      <th>745</th>\n",
       "      <td>53002.77</td>\n",
       "    </tr>\n",
       "  </tbody>\n",
       "</table>\n",
       "</div>"
      ],
      "text/plain": [
       "     standard_charge_negotiated_dollar\n",
       "183                           57020.41\n",
       "744                           13570.00\n",
       "745                           53002.77"
      ]
     },
     "execution_count": 67,
     "metadata": {},
     "output_type": "execute_result"
    }
   ],
   "source": [
    "e1 = e1.loc[:, e1.nunique() > 1]\n",
    "e1"
   ]
  },
  {
   "cell_type": "markdown",
   "id": "96f69919-775f-4804-8a03-03bd65187063",
   "metadata": {},
   "source": [
    "For this billing code 872 (SEPTICEMIA OR SEVERE SEPSIS WITHOUT MV >96 HOURS WITHOUT MCC) with cigna payer, we can see:<br>\n",
    "* same `rate` with varying `standard_charge_negotiated_dollar`.\n",
    "* `rate` is more than `cms_baseline_rate` and `standard_charge_min` but less than `standard_charge_negotiated_dollar` and `standard_charge_max`.\n",
    "* I'd pick `rate` 15,902 for SEPTICEMIA paid by UHC."
   ]
  },
  {
   "cell_type": "markdown",
   "id": "d1ff321c-705d-4d66-99b6-44ccb06a0b49",
   "metadata": {},
   "source": [
    "### Example 2: Cigna corporation payer for 43239 code (Esophagogastroduodenoscopy (EGD) with biopsy):"
   ]
  },
  {
   "cell_type": "code",
   "execution_count": 68,
   "id": "8abbe4e2-f72c-4d21-8cee-e57c9d2d71b9",
   "metadata": {},
   "outputs": [
    {
     "name": "stdout",
     "output_type": "stream",
     "text": [
      "(12, 13)\n"
     ]
    },
    {
     "data": {
      "text/html": [
       "<div>\n",
       "<style scoped>\n",
       "    .dataframe tbody tr th:only-of-type {\n",
       "        vertical-align: middle;\n",
       "    }\n",
       "\n",
       "    .dataframe tbody tr th {\n",
       "        vertical-align: top;\n",
       "    }\n",
       "\n",
       "    .dataframe thead th {\n",
       "        text-align: right;\n",
       "    }\n",
       "</style>\n",
       "<table border=\"1\" class=\"dataframe\">\n",
       "  <thead>\n",
       "    <tr style=\"text-align: right;\">\n",
       "      <th></th>\n",
       "      <th>payer_code</th>\n",
       "      <th>setting</th>\n",
       "      <th>count_npi</th>\n",
       "      <th>count_place_service</th>\n",
       "      <th>standard_charge_negotiated_dollar</th>\n",
       "      <th>standard_charge_min</th>\n",
       "      <th>standard_charge_max</th>\n",
       "      <th>standard_charge_methodology</th>\n",
       "      <th>billing_class</th>\n",
       "      <th>negotiation_type</th>\n",
       "      <th>rate</th>\n",
       "      <th>cms_baseline_schedule</th>\n",
       "      <th>cms_baseline_rate</th>\n",
       "    </tr>\n",
       "  </thead>\n",
       "  <tbody>\n",
       "    <tr>\n",
       "      <th>314</th>\n",
       "      <td>cigna-corporation_43239</td>\n",
       "      <td>both</td>\n",
       "      <td>836</td>\n",
       "      <td>50</td>\n",
       "      <td>841.81</td>\n",
       "      <td>146.49</td>\n",
       "      <td>1733.49</td>\n",
       "      <td>fee schedule</td>\n",
       "      <td>professional</td>\n",
       "      <td>fee schedule</td>\n",
       "      <td>841.81</td>\n",
       "      <td>pfs_nonfacility_1320202</td>\n",
       "      <td>424.76</td>\n",
       "    </tr>\n",
       "    <tr>\n",
       "      <th>315</th>\n",
       "      <td>cigna-corporation_43239</td>\n",
       "      <td>both</td>\n",
       "      <td>5</td>\n",
       "      <td>50</td>\n",
       "      <td>841.81</td>\n",
       "      <td>146.49</td>\n",
       "      <td>1733.49</td>\n",
       "      <td>fee schedule</td>\n",
       "      <td>professional</td>\n",
       "      <td>fee schedule</td>\n",
       "      <td>841.81</td>\n",
       "      <td>pfs_nonfacility_1320202</td>\n",
       "      <td>424.76</td>\n",
       "    </tr>\n",
       "    <tr>\n",
       "      <th>316</th>\n",
       "      <td>cigna-corporation_43239</td>\n",
       "      <td>both</td>\n",
       "      <td>1</td>\n",
       "      <td>50</td>\n",
       "      <td>841.81</td>\n",
       "      <td>146.49</td>\n",
       "      <td>1733.49</td>\n",
       "      <td>fee schedule</td>\n",
       "      <td>professional</td>\n",
       "      <td>fee schedule</td>\n",
       "      <td>395.58</td>\n",
       "      <td>pfs_nonfacility_1320202</td>\n",
       "      <td>424.76</td>\n",
       "    </tr>\n",
       "    <tr>\n",
       "      <th>317</th>\n",
       "      <td>cigna-corporation_43239</td>\n",
       "      <td>both</td>\n",
       "      <td>3</td>\n",
       "      <td>20</td>\n",
       "      <td>841.81</td>\n",
       "      <td>146.49</td>\n",
       "      <td>1733.49</td>\n",
       "      <td>fee schedule</td>\n",
       "      <td>professional</td>\n",
       "      <td>fee schedule</td>\n",
       "      <td>170.21</td>\n",
       "      <td>pfs_facility_1320201</td>\n",
       "      <td>151.42</td>\n",
       "    </tr>\n",
       "    <tr>\n",
       "      <th>318</th>\n",
       "      <td>cigna-corporation_43239</td>\n",
       "      <td>both</td>\n",
       "      <td>3</td>\n",
       "      <td>28</td>\n",
       "      <td>841.81</td>\n",
       "      <td>146.49</td>\n",
       "      <td>1733.49</td>\n",
       "      <td>fee schedule</td>\n",
       "      <td>professional</td>\n",
       "      <td>fee schedule</td>\n",
       "      <td>509.63</td>\n",
       "      <td>pfs_nonfacility_1320201</td>\n",
       "      <td>413.17</td>\n",
       "    </tr>\n",
       "    <tr>\n",
       "      <th>319</th>\n",
       "      <td>cigna-corporation_43239</td>\n",
       "      <td>both</td>\n",
       "      <td>28</td>\n",
       "      <td>50</td>\n",
       "      <td>841.81</td>\n",
       "      <td>146.49</td>\n",
       "      <td>1733.49</td>\n",
       "      <td>fee schedule</td>\n",
       "      <td>professional</td>\n",
       "      <td>fee schedule</td>\n",
       "      <td>708.10</td>\n",
       "      <td>pfs_nonfacility_1320202</td>\n",
       "      <td>424.76</td>\n",
       "    </tr>\n",
       "    <tr>\n",
       "      <th>691</th>\n",
       "      <td>cigna-corporation_43239</td>\n",
       "      <td>outpatient</td>\n",
       "      <td>836</td>\n",
       "      <td>50</td>\n",
       "      <td>5954.00</td>\n",
       "      <td>2518.00</td>\n",
       "      <td>9347.00</td>\n",
       "      <td>case rate</td>\n",
       "      <td>professional</td>\n",
       "      <td>fee schedule</td>\n",
       "      <td>841.81</td>\n",
       "      <td>pfs_nonfacility_1320202</td>\n",
       "      <td>424.76</td>\n",
       "    </tr>\n",
       "    <tr>\n",
       "      <th>692</th>\n",
       "      <td>cigna-corporation_43239</td>\n",
       "      <td>outpatient</td>\n",
       "      <td>5</td>\n",
       "      <td>50</td>\n",
       "      <td>5954.00</td>\n",
       "      <td>2518.00</td>\n",
       "      <td>9347.00</td>\n",
       "      <td>case rate</td>\n",
       "      <td>professional</td>\n",
       "      <td>fee schedule</td>\n",
       "      <td>841.81</td>\n",
       "      <td>pfs_nonfacility_1320202</td>\n",
       "      <td>424.76</td>\n",
       "    </tr>\n",
       "    <tr>\n",
       "      <th>693</th>\n",
       "      <td>cigna-corporation_43239</td>\n",
       "      <td>outpatient</td>\n",
       "      <td>1</td>\n",
       "      <td>50</td>\n",
       "      <td>5954.00</td>\n",
       "      <td>2518.00</td>\n",
       "      <td>9347.00</td>\n",
       "      <td>case rate</td>\n",
       "      <td>professional</td>\n",
       "      <td>fee schedule</td>\n",
       "      <td>395.58</td>\n",
       "      <td>pfs_nonfacility_1320202</td>\n",
       "      <td>424.76</td>\n",
       "    </tr>\n",
       "    <tr>\n",
       "      <th>694</th>\n",
       "      <td>cigna-corporation_43239</td>\n",
       "      <td>outpatient</td>\n",
       "      <td>3</td>\n",
       "      <td>20</td>\n",
       "      <td>5954.00</td>\n",
       "      <td>2518.00</td>\n",
       "      <td>9347.00</td>\n",
       "      <td>case rate</td>\n",
       "      <td>professional</td>\n",
       "      <td>fee schedule</td>\n",
       "      <td>170.21</td>\n",
       "      <td>pfs_facility_1320201</td>\n",
       "      <td>151.42</td>\n",
       "    </tr>\n",
       "    <tr>\n",
       "      <th>695</th>\n",
       "      <td>cigna-corporation_43239</td>\n",
       "      <td>outpatient</td>\n",
       "      <td>3</td>\n",
       "      <td>28</td>\n",
       "      <td>5954.00</td>\n",
       "      <td>2518.00</td>\n",
       "      <td>9347.00</td>\n",
       "      <td>case rate</td>\n",
       "      <td>professional</td>\n",
       "      <td>fee schedule</td>\n",
       "      <td>509.63</td>\n",
       "      <td>pfs_nonfacility_1320201</td>\n",
       "      <td>413.17</td>\n",
       "    </tr>\n",
       "    <tr>\n",
       "      <th>696</th>\n",
       "      <td>cigna-corporation_43239</td>\n",
       "      <td>outpatient</td>\n",
       "      <td>28</td>\n",
       "      <td>50</td>\n",
       "      <td>5954.00</td>\n",
       "      <td>2518.00</td>\n",
       "      <td>9347.00</td>\n",
       "      <td>case rate</td>\n",
       "      <td>professional</td>\n",
       "      <td>fee schedule</td>\n",
       "      <td>708.10</td>\n",
       "      <td>pfs_nonfacility_1320202</td>\n",
       "      <td>424.76</td>\n",
       "    </tr>\n",
       "  </tbody>\n",
       "</table>\n",
       "</div>"
      ],
      "text/plain": [
       "                  payer_code     setting  count_npi  count_place_service  \\\n",
       "314  cigna-corporation_43239        both        836                   50   \n",
       "315  cigna-corporation_43239        both          5                   50   \n",
       "316  cigna-corporation_43239        both          1                   50   \n",
       "317  cigna-corporation_43239        both          3                   20   \n",
       "318  cigna-corporation_43239        both          3                   28   \n",
       "319  cigna-corporation_43239        both         28                   50   \n",
       "691  cigna-corporation_43239  outpatient        836                   50   \n",
       "692  cigna-corporation_43239  outpatient          5                   50   \n",
       "693  cigna-corporation_43239  outpatient          1                   50   \n",
       "694  cigna-corporation_43239  outpatient          3                   20   \n",
       "695  cigna-corporation_43239  outpatient          3                   28   \n",
       "696  cigna-corporation_43239  outpatient         28                   50   \n",
       "\n",
       "     standard_charge_negotiated_dollar  standard_charge_min  \\\n",
       "314                             841.81               146.49   \n",
       "315                             841.81               146.49   \n",
       "316                             841.81               146.49   \n",
       "317                             841.81               146.49   \n",
       "318                             841.81               146.49   \n",
       "319                             841.81               146.49   \n",
       "691                            5954.00              2518.00   \n",
       "692                            5954.00              2518.00   \n",
       "693                            5954.00              2518.00   \n",
       "694                            5954.00              2518.00   \n",
       "695                            5954.00              2518.00   \n",
       "696                            5954.00              2518.00   \n",
       "\n",
       "     standard_charge_max standard_charge_methodology billing_class  \\\n",
       "314              1733.49                fee schedule  professional   \n",
       "315              1733.49                fee schedule  professional   \n",
       "316              1733.49                fee schedule  professional   \n",
       "317              1733.49                fee schedule  professional   \n",
       "318              1733.49                fee schedule  professional   \n",
       "319              1733.49                fee schedule  professional   \n",
       "691              9347.00                   case rate  professional   \n",
       "692              9347.00                   case rate  professional   \n",
       "693              9347.00                   case rate  professional   \n",
       "694              9347.00                   case rate  professional   \n",
       "695              9347.00                   case rate  professional   \n",
       "696              9347.00                   case rate  professional   \n",
       "\n",
       "    negotiation_type    rate    cms_baseline_schedule  cms_baseline_rate  \n",
       "314     fee schedule  841.81  pfs_nonfacility_1320202             424.76  \n",
       "315     fee schedule  841.81  pfs_nonfacility_1320202             424.76  \n",
       "316     fee schedule  395.58  pfs_nonfacility_1320202             424.76  \n",
       "317     fee schedule  170.21     pfs_facility_1320201             151.42  \n",
       "318     fee schedule  509.63  pfs_nonfacility_1320201             413.17  \n",
       "319     fee schedule  708.10  pfs_nonfacility_1320202             424.76  \n",
       "691     fee schedule  841.81  pfs_nonfacility_1320202             424.76  \n",
       "692     fee schedule  841.81  pfs_nonfacility_1320202             424.76  \n",
       "693     fee schedule  395.58  pfs_nonfacility_1320202             424.76  \n",
       "694     fee schedule  170.21     pfs_facility_1320201             151.42  \n",
       "695     fee schedule  509.63  pfs_nonfacility_1320201             413.17  \n",
       "696     fee schedule  708.10  pfs_nonfacility_1320202             424.76  "
      ]
     },
     "execution_count": 68,
     "metadata": {},
     "output_type": "execute_result"
    }
   ],
   "source": [
    "e2 = dfm[dfm.payer_code=='cigna-corporation_43239']\n",
    "print(e2.shape)\n",
    "e2"
   ]
  },
  {
   "cell_type": "code",
   "execution_count": 69,
   "id": "54789d8b-1097-444d-a0a5-f4a23acd35fe",
   "metadata": {},
   "outputs": [
    {
     "data": {
      "text/plain": [
       "Index(['setting', 'count_npi', 'count_place_service',\n",
       "       'standard_charge_negotiated_dollar', 'standard_charge_min',\n",
       "       'standard_charge_max', 'standard_charge_methodology', 'rate',\n",
       "       'cms_baseline_schedule', 'cms_baseline_rate'],\n",
       "      dtype='object')"
      ]
     },
     "execution_count": 69,
     "metadata": {},
     "output_type": "execute_result"
    }
   ],
   "source": [
    "#keeping columns with different values \n",
    "e2 = e2.loc[:, e2.nunique() > 1] \n",
    "e2.columns"
   ]
  },
  {
   "cell_type": "markdown",
   "id": "0fd82534-4f18-4198-9715-1c259435157e",
   "metadata": {},
   "source": [
    "* In this case, I filter the rows based on either `setting` or `standard_charge_methodology` beacsue either does the same filetring."
   ]
  },
  {
   "cell_type": "code",
   "execution_count": 70,
   "id": "62a67f2e-1b9d-4fee-9f28-7b58faad4c30",
   "metadata": {},
   "outputs": [
    {
     "data": {
      "text/html": [
       "<div>\n",
       "<style scoped>\n",
       "    .dataframe tbody tr th:only-of-type {\n",
       "        vertical-align: middle;\n",
       "    }\n",
       "\n",
       "    .dataframe tbody tr th {\n",
       "        vertical-align: top;\n",
       "    }\n",
       "\n",
       "    .dataframe thead th {\n",
       "        text-align: right;\n",
       "    }\n",
       "</style>\n",
       "<table border=\"1\" class=\"dataframe\">\n",
       "  <thead>\n",
       "    <tr style=\"text-align: right;\">\n",
       "      <th></th>\n",
       "      <th>setting</th>\n",
       "      <th>count_npi</th>\n",
       "      <th>count_place_service</th>\n",
       "      <th>standard_charge_negotiated_dollar</th>\n",
       "      <th>standard_charge_min</th>\n",
       "      <th>standard_charge_max</th>\n",
       "      <th>standard_charge_methodology</th>\n",
       "      <th>rate</th>\n",
       "      <th>cms_baseline_schedule</th>\n",
       "      <th>cms_baseline_rate</th>\n",
       "    </tr>\n",
       "  </thead>\n",
       "  <tbody>\n",
       "    <tr>\n",
       "      <th>314</th>\n",
       "      <td>both</td>\n",
       "      <td>836</td>\n",
       "      <td>50</td>\n",
       "      <td>841.81</td>\n",
       "      <td>146.49</td>\n",
       "      <td>1733.49</td>\n",
       "      <td>fee schedule</td>\n",
       "      <td>841.81</td>\n",
       "      <td>pfs_nonfacility_1320202</td>\n",
       "      <td>424.76</td>\n",
       "    </tr>\n",
       "    <tr>\n",
       "      <th>315</th>\n",
       "      <td>both</td>\n",
       "      <td>5</td>\n",
       "      <td>50</td>\n",
       "      <td>841.81</td>\n",
       "      <td>146.49</td>\n",
       "      <td>1733.49</td>\n",
       "      <td>fee schedule</td>\n",
       "      <td>841.81</td>\n",
       "      <td>pfs_nonfacility_1320202</td>\n",
       "      <td>424.76</td>\n",
       "    </tr>\n",
       "    <tr>\n",
       "      <th>316</th>\n",
       "      <td>both</td>\n",
       "      <td>1</td>\n",
       "      <td>50</td>\n",
       "      <td>841.81</td>\n",
       "      <td>146.49</td>\n",
       "      <td>1733.49</td>\n",
       "      <td>fee schedule</td>\n",
       "      <td>395.58</td>\n",
       "      <td>pfs_nonfacility_1320202</td>\n",
       "      <td>424.76</td>\n",
       "    </tr>\n",
       "    <tr>\n",
       "      <th>317</th>\n",
       "      <td>both</td>\n",
       "      <td>3</td>\n",
       "      <td>20</td>\n",
       "      <td>841.81</td>\n",
       "      <td>146.49</td>\n",
       "      <td>1733.49</td>\n",
       "      <td>fee schedule</td>\n",
       "      <td>170.21</td>\n",
       "      <td>pfs_facility_1320201</td>\n",
       "      <td>151.42</td>\n",
       "    </tr>\n",
       "    <tr>\n",
       "      <th>318</th>\n",
       "      <td>both</td>\n",
       "      <td>3</td>\n",
       "      <td>28</td>\n",
       "      <td>841.81</td>\n",
       "      <td>146.49</td>\n",
       "      <td>1733.49</td>\n",
       "      <td>fee schedule</td>\n",
       "      <td>509.63</td>\n",
       "      <td>pfs_nonfacility_1320201</td>\n",
       "      <td>413.17</td>\n",
       "    </tr>\n",
       "    <tr>\n",
       "      <th>319</th>\n",
       "      <td>both</td>\n",
       "      <td>28</td>\n",
       "      <td>50</td>\n",
       "      <td>841.81</td>\n",
       "      <td>146.49</td>\n",
       "      <td>1733.49</td>\n",
       "      <td>fee schedule</td>\n",
       "      <td>708.10</td>\n",
       "      <td>pfs_nonfacility_1320202</td>\n",
       "      <td>424.76</td>\n",
       "    </tr>\n",
       "    <tr>\n",
       "      <th>691</th>\n",
       "      <td>outpatient</td>\n",
       "      <td>836</td>\n",
       "      <td>50</td>\n",
       "      <td>5954.00</td>\n",
       "      <td>2518.00</td>\n",
       "      <td>9347.00</td>\n",
       "      <td>case rate</td>\n",
       "      <td>841.81</td>\n",
       "      <td>pfs_nonfacility_1320202</td>\n",
       "      <td>424.76</td>\n",
       "    </tr>\n",
       "    <tr>\n",
       "      <th>692</th>\n",
       "      <td>outpatient</td>\n",
       "      <td>5</td>\n",
       "      <td>50</td>\n",
       "      <td>5954.00</td>\n",
       "      <td>2518.00</td>\n",
       "      <td>9347.00</td>\n",
       "      <td>case rate</td>\n",
       "      <td>841.81</td>\n",
       "      <td>pfs_nonfacility_1320202</td>\n",
       "      <td>424.76</td>\n",
       "    </tr>\n",
       "    <tr>\n",
       "      <th>693</th>\n",
       "      <td>outpatient</td>\n",
       "      <td>1</td>\n",
       "      <td>50</td>\n",
       "      <td>5954.00</td>\n",
       "      <td>2518.00</td>\n",
       "      <td>9347.00</td>\n",
       "      <td>case rate</td>\n",
       "      <td>395.58</td>\n",
       "      <td>pfs_nonfacility_1320202</td>\n",
       "      <td>424.76</td>\n",
       "    </tr>\n",
       "    <tr>\n",
       "      <th>694</th>\n",
       "      <td>outpatient</td>\n",
       "      <td>3</td>\n",
       "      <td>20</td>\n",
       "      <td>5954.00</td>\n",
       "      <td>2518.00</td>\n",
       "      <td>9347.00</td>\n",
       "      <td>case rate</td>\n",
       "      <td>170.21</td>\n",
       "      <td>pfs_facility_1320201</td>\n",
       "      <td>151.42</td>\n",
       "    </tr>\n",
       "    <tr>\n",
       "      <th>695</th>\n",
       "      <td>outpatient</td>\n",
       "      <td>3</td>\n",
       "      <td>28</td>\n",
       "      <td>5954.00</td>\n",
       "      <td>2518.00</td>\n",
       "      <td>9347.00</td>\n",
       "      <td>case rate</td>\n",
       "      <td>509.63</td>\n",
       "      <td>pfs_nonfacility_1320201</td>\n",
       "      <td>413.17</td>\n",
       "    </tr>\n",
       "    <tr>\n",
       "      <th>696</th>\n",
       "      <td>outpatient</td>\n",
       "      <td>28</td>\n",
       "      <td>50</td>\n",
       "      <td>5954.00</td>\n",
       "      <td>2518.00</td>\n",
       "      <td>9347.00</td>\n",
       "      <td>case rate</td>\n",
       "      <td>708.10</td>\n",
       "      <td>pfs_nonfacility_1320202</td>\n",
       "      <td>424.76</td>\n",
       "    </tr>\n",
       "  </tbody>\n",
       "</table>\n",
       "</div>"
      ],
      "text/plain": [
       "        setting  count_npi  count_place_service  \\\n",
       "314        both        836                   50   \n",
       "315        both          5                   50   \n",
       "316        both          1                   50   \n",
       "317        both          3                   20   \n",
       "318        both          3                   28   \n",
       "319        both         28                   50   \n",
       "691  outpatient        836                   50   \n",
       "692  outpatient          5                   50   \n",
       "693  outpatient          1                   50   \n",
       "694  outpatient          3                   20   \n",
       "695  outpatient          3                   28   \n",
       "696  outpatient         28                   50   \n",
       "\n",
       "     standard_charge_negotiated_dollar  standard_charge_min  \\\n",
       "314                             841.81               146.49   \n",
       "315                             841.81               146.49   \n",
       "316                             841.81               146.49   \n",
       "317                             841.81               146.49   \n",
       "318                             841.81               146.49   \n",
       "319                             841.81               146.49   \n",
       "691                            5954.00              2518.00   \n",
       "692                            5954.00              2518.00   \n",
       "693                            5954.00              2518.00   \n",
       "694                            5954.00              2518.00   \n",
       "695                            5954.00              2518.00   \n",
       "696                            5954.00              2518.00   \n",
       "\n",
       "     standard_charge_max standard_charge_methodology    rate  \\\n",
       "314              1733.49                fee schedule  841.81   \n",
       "315              1733.49                fee schedule  841.81   \n",
       "316              1733.49                fee schedule  395.58   \n",
       "317              1733.49                fee schedule  170.21   \n",
       "318              1733.49                fee schedule  509.63   \n",
       "319              1733.49                fee schedule  708.10   \n",
       "691              9347.00                   case rate  841.81   \n",
       "692              9347.00                   case rate  841.81   \n",
       "693              9347.00                   case rate  395.58   \n",
       "694              9347.00                   case rate  170.21   \n",
       "695              9347.00                   case rate  509.63   \n",
       "696              9347.00                   case rate  708.10   \n",
       "\n",
       "       cms_baseline_schedule  cms_baseline_rate  \n",
       "314  pfs_nonfacility_1320202             424.76  \n",
       "315  pfs_nonfacility_1320202             424.76  \n",
       "316  pfs_nonfacility_1320202             424.76  \n",
       "317     pfs_facility_1320201             151.42  \n",
       "318  pfs_nonfacility_1320201             413.17  \n",
       "319  pfs_nonfacility_1320202             424.76  \n",
       "691  pfs_nonfacility_1320202             424.76  \n",
       "692  pfs_nonfacility_1320202             424.76  \n",
       "693  pfs_nonfacility_1320202             424.76  \n",
       "694     pfs_facility_1320201             151.42  \n",
       "695  pfs_nonfacility_1320201             413.17  \n",
       "696  pfs_nonfacility_1320202             424.76  "
      ]
     },
     "execution_count": 70,
     "metadata": {},
     "output_type": "execute_result"
    }
   ],
   "source": [
    "e2"
   ]
  },
  {
   "cell_type": "code",
   "execution_count": 71,
   "id": "40f5c3ec-22da-453a-8318-b038f576bf76",
   "metadata": {},
   "outputs": [],
   "source": [
    "e21 = e2[e2.setting=='both']\n",
    "e22 = e2[e2.setting!='both']\n",
    "\n",
    "#keeping columns with different values \n",
    "e21 = e21.loc[:, e21.nunique() > 1] \n",
    "e22 = e22.loc[:, e22.nunique() > 1]"
   ]
  },
  {
   "cell_type": "code",
   "execution_count": 72,
   "id": "c2a39019-da70-4e38-b346-171cbb5459e1",
   "metadata": {},
   "outputs": [
    {
     "data": {
      "text/html": [
       "<div>\n",
       "<style scoped>\n",
       "    .dataframe tbody tr th:only-of-type {\n",
       "        vertical-align: middle;\n",
       "    }\n",
       "\n",
       "    .dataframe tbody tr th {\n",
       "        vertical-align: top;\n",
       "    }\n",
       "\n",
       "    .dataframe thead th {\n",
       "        text-align: right;\n",
       "    }\n",
       "</style>\n",
       "<table border=\"1\" class=\"dataframe\">\n",
       "  <thead>\n",
       "    <tr style=\"text-align: right;\">\n",
       "      <th></th>\n",
       "      <th>count_npi</th>\n",
       "      <th>count_place_service</th>\n",
       "      <th>rate</th>\n",
       "      <th>cms_baseline_schedule</th>\n",
       "      <th>cms_baseline_rate</th>\n",
       "    </tr>\n",
       "  </thead>\n",
       "  <tbody>\n",
       "    <tr>\n",
       "      <th>314</th>\n",
       "      <td>836</td>\n",
       "      <td>50</td>\n",
       "      <td>841.81</td>\n",
       "      <td>pfs_nonfacility_1320202</td>\n",
       "      <td>424.76</td>\n",
       "    </tr>\n",
       "    <tr>\n",
       "      <th>315</th>\n",
       "      <td>5</td>\n",
       "      <td>50</td>\n",
       "      <td>841.81</td>\n",
       "      <td>pfs_nonfacility_1320202</td>\n",
       "      <td>424.76</td>\n",
       "    </tr>\n",
       "    <tr>\n",
       "      <th>316</th>\n",
       "      <td>1</td>\n",
       "      <td>50</td>\n",
       "      <td>395.58</td>\n",
       "      <td>pfs_nonfacility_1320202</td>\n",
       "      <td>424.76</td>\n",
       "    </tr>\n",
       "    <tr>\n",
       "      <th>317</th>\n",
       "      <td>3</td>\n",
       "      <td>20</td>\n",
       "      <td>170.21</td>\n",
       "      <td>pfs_facility_1320201</td>\n",
       "      <td>151.42</td>\n",
       "    </tr>\n",
       "    <tr>\n",
       "      <th>318</th>\n",
       "      <td>3</td>\n",
       "      <td>28</td>\n",
       "      <td>509.63</td>\n",
       "      <td>pfs_nonfacility_1320201</td>\n",
       "      <td>413.17</td>\n",
       "    </tr>\n",
       "    <tr>\n",
       "      <th>319</th>\n",
       "      <td>28</td>\n",
       "      <td>50</td>\n",
       "      <td>708.10</td>\n",
       "      <td>pfs_nonfacility_1320202</td>\n",
       "      <td>424.76</td>\n",
       "    </tr>\n",
       "  </tbody>\n",
       "</table>\n",
       "</div>"
      ],
      "text/plain": [
       "     count_npi  count_place_service    rate    cms_baseline_schedule  \\\n",
       "314        836                   50  841.81  pfs_nonfacility_1320202   \n",
       "315          5                   50  841.81  pfs_nonfacility_1320202   \n",
       "316          1                   50  395.58  pfs_nonfacility_1320202   \n",
       "317          3                   20  170.21     pfs_facility_1320201   \n",
       "318          3                   28  509.63  pfs_nonfacility_1320201   \n",
       "319         28                   50  708.10  pfs_nonfacility_1320202   \n",
       "\n",
       "     cms_baseline_rate  \n",
       "314             424.76  \n",
       "315             424.76  \n",
       "316             424.76  \n",
       "317             151.42  \n",
       "318             413.17  \n",
       "319             424.76  "
      ]
     },
     "execution_count": 72,
     "metadata": {},
     "output_type": "execute_result"
    }
   ],
   "source": [
    "# I'd just focus on e21, since same process could be implemented to e22\n",
    "e21"
   ]
  },
  {
   "cell_type": "code",
   "execution_count": 73,
   "id": "04abc7f8-ab04-4839-92d0-42cb38e56d19",
   "metadata": {},
   "outputs": [
    {
     "data": {
      "text/html": [
       "<div>\n",
       "<style scoped>\n",
       "    .dataframe tbody tr th:only-of-type {\n",
       "        vertical-align: middle;\n",
       "    }\n",
       "\n",
       "    .dataframe tbody tr th {\n",
       "        vertical-align: top;\n",
       "    }\n",
       "\n",
       "    .dataframe thead th {\n",
       "        text-align: right;\n",
       "    }\n",
       "</style>\n",
       "<table border=\"1\" class=\"dataframe\">\n",
       "  <thead>\n",
       "    <tr style=\"text-align: right;\">\n",
       "      <th></th>\n",
       "      <th>count_npi</th>\n",
       "      <th>count_place_service</th>\n",
       "      <th>rate</th>\n",
       "      <th>cms_baseline_schedule</th>\n",
       "      <th>cms_baseline_rate</th>\n",
       "    </tr>\n",
       "  </thead>\n",
       "  <tbody>\n",
       "    <tr>\n",
       "      <th>317</th>\n",
       "      <td>3</td>\n",
       "      <td>20</td>\n",
       "      <td>170.21</td>\n",
       "      <td>pfs_facility_1320201</td>\n",
       "      <td>151.42</td>\n",
       "    </tr>\n",
       "    <tr>\n",
       "      <th>318</th>\n",
       "      <td>3</td>\n",
       "      <td>28</td>\n",
       "      <td>509.63</td>\n",
       "      <td>pfs_nonfacility_1320201</td>\n",
       "      <td>413.17</td>\n",
       "    </tr>\n",
       "    <tr>\n",
       "      <th>314</th>\n",
       "      <td>836</td>\n",
       "      <td>50</td>\n",
       "      <td>841.81</td>\n",
       "      <td>pfs_nonfacility_1320202</td>\n",
       "      <td>424.76</td>\n",
       "    </tr>\n",
       "  </tbody>\n",
       "</table>\n",
       "</div>"
      ],
      "text/plain": [
       "     count_npi  count_place_service    rate    cms_baseline_schedule  \\\n",
       "317          3                   20  170.21     pfs_facility_1320201   \n",
       "318          3                   28  509.63  pfs_nonfacility_1320201   \n",
       "314        836                   50  841.81  pfs_nonfacility_1320202   \n",
       "\n",
       "     cms_baseline_rate  \n",
       "317             151.42  \n",
       "318             413.17  \n",
       "314             424.76  "
      ]
     },
     "execution_count": 73,
     "metadata": {},
     "output_type": "execute_result"
    }
   ],
   "source": [
    "# filter based on count nPI and count place service\n",
    "e21['max_npi_count'] = e21.groupby('cms_baseline_schedule')['count_npi'].transform('max')\n",
    "e21['max_count_place_service'] = e21.groupby('cms_baseline_schedule')['count_place_service'].transform('max')\n",
    "e21= e21[e21.count_npi==e21.max_npi_count].drop('max_npi_count',axis=1)\n",
    "e21= e21[e21.count_place_service==e21.max_count_place_service].drop('max_count_place_service',axis=1)\n",
    "e21.sort_values('cms_baseline_schedule', inplace=True)\n",
    "e21"
   ]
  },
  {
   "cell_type": "markdown",
   "id": "2a0c7898-4538-409a-9af7-4363230a1296",
   "metadata": {},
   "source": [
    "I pick `rate` column as the final price where different rates are implemented for PFS (Physician Fee Schedule) facility and non-facility refer to the facility-based payment and  non-facility-based rates under the Medicare Physician Fee Schedule (PFS).<br>\n",
    "For PFS Facility, these rates are applied when services are provided in facility settings such as hospitals, skilled nursing facilities or ambulatory surgical centers. For PFS non-facility, these rates apply to services provided in non-facility settings, such as a physician’s office or a patient’s home, where the physician bears the cost of resources like labor, medical supplies, and equipment."
   ]
  },
  {
   "cell_type": "markdown",
   "id": "48c149a5-6c63-49da-ba48-5fb207f05487",
   "metadata": {},
   "source": [
    "-----------"
   ]
  },
  {
   "cell_type": "markdown",
   "id": "e3ad790e-eab1-45e3-87f7-99d7ca15a1fd",
   "metadata": {},
   "source": [
    "The ultimate goal for each payer_code combination is to:<br>\n",
    "\t1.\tFilter out redundant columns: Eliminate as many columns as possible, especially those that are exact duplicates or provide no additional value.<br>\n",
    "\t2.\tIdentify the largest values for `count_place_service` and `count_npi` within certain categories.<br>\n",
    "\t3.\tResolve remaining rate differences:<br>\n",
    "\t•\tIf there are still differences in the `'rate'`, use additional columns such as `setting`,`cms_baseline_schedule` and `standard_charge_methodology` to further narrow down the choices."
   ]
  }
 ],
 "metadata": {
  "kernelspec": {
   "display_name": "Python 3 (ipykernel)",
   "language": "python",
   "name": "python3"
  },
  "language_info": {
   "codemirror_mode": {
    "name": "ipython",
    "version": 3
   },
   "file_extension": ".py",
   "mimetype": "text/x-python",
   "name": "python",
   "nbconvert_exporter": "python",
   "pygments_lexer": "ipython3",
   "version": "3.13.0"
  }
 },
 "nbformat": 4,
 "nbformat_minor": 5
}
